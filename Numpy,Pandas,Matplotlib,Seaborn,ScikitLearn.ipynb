{
  "nbformat": 4,
  "nbformat_minor": 0,
  "metadata": {
    "colab": {
      "provenance": [],
      "authorship_tag": "ABX9TyMBoBvdhXeCJhsiNhxTfi3+",
      "include_colab_link": true
    },
    "kernelspec": {
      "name": "python3",
      "display_name": "Python 3"
    },
    "language_info": {
      "name": "python"
    }
  },
  "cells": [
    {
      "cell_type": "markdown",
      "metadata": {
        "id": "view-in-github",
        "colab_type": "text"
      },
      "source": [
        "<a href=\"https://colab.research.google.com/github/fkofkf431/Python-For-Data-Science/blob/main/Numpy%2CPandas%2CMatplotlib%2CSeaborn%2CScikitLearn.ipynb\" target=\"_parent\"><img src=\"https://colab.research.google.com/assets/colab-badge.svg\" alt=\"Open In Colab\"/></a>"
      ]
    },
    {
      "cell_type": "markdown",
      "source": [
        "# **NumPy-** (Numerical python) ek python library hai jo high performance arrays,matrix, operations aur mathematical functions provide karti hai.Data scinece me use- ML algorithms mostly numerical data ke sath kaam karte hain.Numpy ka ndarray memory efficient hota hai.Pandas,scikit learn,tensor flow sabhi numpy ke upar hi based hain.Fast mathematical operations ke liye use hoti hai,matrix/vector operations karne me use ML me,list se behtar tareeke se manipulation karti ahi."
      ],
      "metadata": {
        "id": "3TuXmhGqexMr"
      }
    },
    {
      "cell_type": "code",
      "source": [
        "import numpy as np\n",
        "# Create 1D array\n",
        "arr = np.array([1,2,3,4])\n",
        "print(arr)\n",
        "print(type(arr))\n",
        "print(arr.shape)\n",
        "print(arr.ndim)"
      ],
      "metadata": {
        "colab": {
          "base_uri": "https://localhost:8080/"
        },
        "id": "2GoQIoFFJCDj",
        "outputId": "8f844862-6a54-47f7-94e5-2800677fecc5"
      },
      "execution_count": 2,
      "outputs": [
        {
          "output_type": "stream",
          "name": "stdout",
          "text": [
            "[1 2 3 4]\n",
            "<class 'numpy.ndarray'>\n",
            "(4,)\n",
            "1\n"
          ]
        }
      ]
    },
    {
      "cell_type": "code",
      "source": [
        "# Create multidimensional array\n",
        "arr2d = np.array([[1,2,3],[4,5,6]])\n",
        "print(arr2d)"
      ],
      "metadata": {
        "colab": {
          "base_uri": "https://localhost:8080/"
        },
        "id": "QKdMCndZJhmA",
        "outputId": "94e87086-e243-4372-9c38-9260c3611abf"
      },
      "execution_count": null,
      "outputs": [
        {
          "output_type": "stream",
          "name": "stdout",
          "text": [
            "[[1 2 3]\n",
            " [4 5 6]]\n"
          ]
        }
      ]
    },
    {
      "cell_type": "code",
      "source": [
        "# Create 3D array\n",
        "arr3d = np.array([[[1,2,3],[4,5,6]],[[7,8,9],[10,11,12]]])\n",
        "print(arr3d)"
      ],
      "metadata": {
        "colab": {
          "base_uri": "https://localhost:8080/"
        },
        "id": "yuveQ9ctJ9pf",
        "outputId": "bbbb69e3-418c-4990-c5ae-db3423655550"
      },
      "execution_count": null,
      "outputs": [
        {
          "output_type": "stream",
          "name": "stdout",
          "text": [
            "[[[ 1  2  3]\n",
            "  [ 4  5  6]]\n",
            "\n",
            " [[ 7  8  9]\n",
            "  [10 11 12]]]\n"
          ]
        }
      ]
    },
    {
      "cell_type": "code",
      "source": [
        "# shape and size\n",
        "arr2d = np.array([[1,2,3],[4,5,6]])\n",
        "print(arr2d)\n",
        "print(arr2d.shape)\n",
        "print(arr2d.size)\n",
        "print(arr2d.ndim)"
      ],
      "metadata": {
        "colab": {
          "base_uri": "https://localhost:8080/"
        },
        "id": "1EJUaPnfKHsY",
        "outputId": "479df6b2-ab62-43a1-8cff-1ce121976681"
      },
      "execution_count": null,
      "outputs": [
        {
          "output_type": "stream",
          "name": "stdout",
          "text": [
            "[[1 2 3]\n",
            " [4 5 6]]\n",
            "(2, 3)\n",
            "6\n",
            "2\n"
          ]
        }
      ]
    },
    {
      "cell_type": "code",
      "source": [
        "# Array operations(element wise)\n",
        "arr1 = np.array([1,2,3])\n",
        "arr2 = np.array([4,5,6])\n",
        "print(arr1+arr2)\n",
        "print(arr1-arr2)\n",
        "print(arr1*arr2)"
      ],
      "metadata": {
        "id": "s2Mo7G3AKUqz",
        "colab": {
          "base_uri": "https://localhost:8080/"
        },
        "outputId": "bc953b3f-2fe8-4522-e086-98a85de352af"
      },
      "execution_count": 3,
      "outputs": [
        {
          "output_type": "stream",
          "name": "stdout",
          "text": [
            "[5 7 9]\n",
            "[-3 -3 -3]\n",
            "[ 4 10 18]\n"
          ]
        }
      ]
    },
    {
      "cell_type": "code",
      "source": [
        "# Useful array functions\n",
        "print(np.zeros((2,3)))\n",
        "print(np.ones((2,3)))\n",
        "print(np.arange(5))   # arange(start, stop, step), last will not include\n",
        "print(np.arange(1,10,2))\n",
        "print(np.linspace(0, 1, 5))    # linspace(start, stop, number), linspace start and end dono include karta hai,\n",
        "                                #iska mtlb hai 0 se 1 ke beech 5 equal no generate kro"
      ],
      "metadata": {
        "colab": {
          "base_uri": "https://localhost:8080/"
        },
        "id": "vapPHVovkE0P",
        "outputId": "3a0fcefb-4d31-4e3f-a00d-da77e84bf94b"
      },
      "execution_count": 8,
      "outputs": [
        {
          "output_type": "stream",
          "name": "stdout",
          "text": [
            "[[0. 0. 0.]\n",
            " [0. 0. 0.]]\n",
            "[[1. 1. 1.]\n",
            " [1. 1. 1.]]\n",
            "[0 1 2 3 4]\n",
            "[1 3 5 7 9]\n",
            "[0.   0.25 0.5  0.75 1.  ]\n"
          ]
        }
      ]
    },
    {
      "cell_type": "code",
      "source": [
        "# reshape and flatten\n",
        "arr = np.array([[1,2,3],[4,5,6]])\n",
        "print(arr)\n",
        "print(arr.reshape(3,2))  # existing array ka shape change karta hai without changing the data\n",
        "print(arr.reshape(6,1))   # multidimensional array banane ya karne ke liye use hota hai\n",
        "# 1D array ko 2D(2 rows,3 column) bana diya\n",
        "a = np.array([1,2,3,4,5,6])\n",
        "print(a.reshape(2,3))\n",
        "# Element ka toatl same rehna chahiye,2*3=6, nhi to error ayega,jese 2*4 nhi banega,error ayega\n",
        "print(arr.flatten())     # Multidimensional array ko 1D array bana deta hai\n",
        "\n",
        "# suppose ek image hai 28*28 pixels ki 2D image,machine learning model ko ise flatten karke 1D banana padta hai,like(0, 255, 128,...)\n",
        "# Image input: reshape(28, 28), shape for visualization\n",
        "# Model input: flatten(): shape(784,)"
      ],
      "metadata": {
        "colab": {
          "base_uri": "https://localhost:8080/"
        },
        "id": "0YUKJjL3ktIu",
        "outputId": "154ef3d6-3753-4d7b-cd78-4efa9be7e76e"
      },
      "execution_count": 12,
      "outputs": [
        {
          "output_type": "stream",
          "name": "stdout",
          "text": [
            "[[1 2 3]\n",
            " [4 5 6]]\n",
            "[[1 2]\n",
            " [3 4]\n",
            " [5 6]]\n",
            "[[1]\n",
            " [2]\n",
            " [3]\n",
            " [4]\n",
            " [5]\n",
            " [6]]\n",
            "[[1 2 3]\n",
            " [4 5 6]]\n",
            "[1 2 3 4 5 6]\n"
          ]
        }
      ]
    },
    {
      "cell_type": "code",
      "source": [
        "# Random numbers\n",
        "print(np.random.rand(3))  # # random floats number dega (uniform distribution use hota hai isme)\n",
        "print(np.random.randint(1, 10, 3))  # 3 arndom int numbers dega 1 se 10 ke beech, 10 will not include\n",
        "print(np.random.randint(10, 100, size=(2,3)))  # np.random.randint(start, end, size)"
      ],
      "metadata": {
        "colab": {
          "base_uri": "https://localhost:8080/"
        },
        "id": "SIb5scAPnd_r",
        "outputId": "67fdb29b-ff19-4346-bbb2-e787e7baf5aa"
      },
      "execution_count": 14,
      "outputs": [
        {
          "output_type": "stream",
          "name": "stdout",
          "text": [
            "[0.21833448 0.45995312 0.20992924]\n",
            "[7 3 9]\n",
            "[[23 30 47]\n",
            " [65 33 63]]\n"
          ]
        }
      ]
    },
    {
      "cell_type": "code",
      "source": [
        "# aggregations: kisi array ke multiple values ko ek summary value me convert karna, jese sum, mean, std, min etc.\n",
        "# Ye statistics nikalne ke liye use hota hai Data science and ML me\n",
        "a = np.array([1, 2, 3, 4])\n",
        "print(np.sum(a))\n",
        "print(np.mean(a))\n",
        "print(np.std(a))"
      ],
      "metadata": {
        "colab": {
          "base_uri": "https://localhost:8080/"
        },
        "id": "mjkmV_FqsOds",
        "outputId": "508f15ee-7b96-462b-b262-4bc95cd931e6"
      },
      "execution_count": 15,
      "outputs": [
        {
          "output_type": "stream",
          "name": "stdout",
          "text": [
            "10\n",
            "2.5\n",
            "1.118033988749895\n"
          ]
        }
      ]
    },
    {
      "cell_type": "code",
      "source": [
        "# Aggregation along axis\n",
        "a = np.array([[1, 2, 3], [4, 5, 6]])\n",
        "print(np.sum(a, axis=0))  # column wise sum\n",
        "print(np.sum(a, axis=1))  # row wise sum"
      ],
      "metadata": {
        "colab": {
          "base_uri": "https://localhost:8080/"
        },
        "id": "uSmjjMwwx3f6",
        "outputId": "89b6739b-17db-4fe4-8c42-395fe8ae8796"
      },
      "execution_count": 16,
      "outputs": [
        {
          "output_type": "stream",
          "name": "stdout",
          "text": [
            "[5 7 9]\n",
            "[ 6 15]\n"
          ]
        }
      ]
    },
    {
      "cell_type": "code",
      "source": [
        "# indexing and slicing numpy for 1D\n",
        "a = np.array([1, 2, 3, 4])\n",
        "print(a[0])\n",
        "print(a[1:3])\n",
        "print(a[-1])\n"
      ],
      "metadata": {
        "colab": {
          "base_uri": "https://localhost:8080/"
        },
        "id": "P3uNUOh7szD8",
        "outputId": "69d2f38b-f3e2-4fbc-b8b1-053a93abf141"
      },
      "execution_count": 17,
      "outputs": [
        {
          "output_type": "stream",
          "name": "stdout",
          "text": [
            "1\n",
            "[2 3]\n",
            "4\n"
          ]
        }
      ]
    },
    {
      "cell_type": "code",
      "source": [
        "# indexing and slicing numpy for 2D\n",
        "# Slicing: [start, stop, step]\n",
        "a = np.array([[1, 2, 3], [4, 5, 6]])\n",
        "print(a[0, 0])  # 0 First row, 0 First column\n",
        "print(a[1, 2])  # 1 second row, 2 third column\n",
        "print(a[:, 1])  # slicing\n",
        "print(a[1, :])"
      ],
      "metadata": {
        "colab": {
          "base_uri": "https://localhost:8080/"
        },
        "id": "t-tRI6XKyTV0",
        "outputId": "2642a861-c178-4de5-f881-80dbb75ee897"
      },
      "execution_count": 18,
      "outputs": [
        {
          "output_type": "stream",
          "name": "stdout",
          "text": [
            "1\n",
            "6\n",
            "[2 5]\n",
            "[4 5 6]\n"
          ]
        }
      ]
    },
    {
      "cell_type": "code",
      "source": [
        "# Axis = 0 means: Operate column wise, move top to bottom\n",
        "# Axis = 1 means: operate row wise, move left to right\n",
        "arr2d = np.array([[1, 2, 3],\n",
        "                  [4, 5, 6],\n",
        "                  [7, 8, 9]])\n",
        "print(np.sum(arr2d, axis=0))  # Move top to bottom and sum\n",
        "print(np.sum(arr2d, axis=1))  # Move left to right and sum"
      ],
      "metadata": {
        "colab": {
          "base_uri": "https://localhost:8080/"
        },
        "id": "zQStG9a1yfDE",
        "outputId": "36f0a00b-80ba-4209-e4be-bcc2a7ce8063"
      },
      "execution_count": 20,
      "outputs": [
        {
          "output_type": "stream",
          "name": "stdout",
          "text": [
            "[12 15 18]\n",
            "[ 6 15 24]\n"
          ]
        }
      ]
    },
    {
      "cell_type": "code",
      "source": [
        "# Column and row wise maximum and minimum value\n",
        "arr2d = np.array([[1, 2, 3],\n",
        "                  [4, 5, 6],\n",
        "                  [7, 8, 9]])\n",
        "print(np.max(arr2d, axis=0))\n",
        "print(np.min(arr2d, axis=0))\n",
        "print(np.max(arr2d, axis=1))\n",
        "print(np.min(arr2d, axis=1))"
      ],
      "metadata": {
        "colab": {
          "base_uri": "https://localhost:8080/"
        },
        "id": "RqZ8GLoQ0axw",
        "outputId": "69d7cc9f-b6ea-4c1e-df21-be51ad777078"
      },
      "execution_count": 21,
      "outputs": [
        {
          "output_type": "stream",
          "name": "stdout",
          "text": [
            "[7 8 9]\n",
            "[1 2 3]\n",
            "[3 6 9]\n",
            "[1 4 7]\n"
          ]
        }
      ]
    },
    {
      "cell_type": "code",
      "source": [
        "# create a numpy array with values from 1 to 10. Reshape it in to 2*5 matrix\n",
        "arr = np.arange(1, 11)\n",
        "print(arr)\n",
        "arr = arr.reshape(2, 5)\n",
        "print(arr)"
      ],
      "metadata": {
        "colab": {
          "base_uri": "https://localhost:8080/"
        },
        "id": "r4xZH1AN1RDM",
        "outputId": "7108d0da-80bd-45dd-86d5-f1f8f920debd"
      },
      "execution_count": 22,
      "outputs": [
        {
          "output_type": "stream",
          "name": "stdout",
          "text": [
            "[ 1  2  3  4  5  6  7  8  9 10]\n",
            "[[ 1  2  3  4  5]\n",
            " [ 6  7  8  9 10]]\n"
          ]
        }
      ]
    },
    {
      "cell_type": "code",
      "source": [
        "# Generate a numpy array of 5 random integers between 100 and 500\n",
        "arr = np.random.randint(100, 500, 5)\n",
        "print(arr)"
      ],
      "metadata": {
        "colab": {
          "base_uri": "https://localhost:8080/"
        },
        "id": "PG6t28wtLuxA",
        "outputId": "cfdfd934-172f-4ef6-eeba-9eb4badb1ea1"
      },
      "execution_count": 23,
      "outputs": [
        {
          "output_type": "stream",
          "name": "stdout",
          "text": [
            "[417 390 432 367 270]\n"
          ]
        }
      ]
    },
    {
      "cell_type": "code",
      "source": [
        "# find mean, median and std of array [4, 9, 1, 7,3]\n",
        "arr = [4, 9, 1, 7, 3]\n",
        "print(np.mean(arr))\n",
        "print(np.median(arr))\n",
        "print(np.std(arr))\n",
        "print(np.round(np.std(arr), 2))"
      ],
      "metadata": {
        "colab": {
          "base_uri": "https://localhost:8080/"
        },
        "id": "cy9yD5JuL_yQ",
        "outputId": "70349dbb-68f5-4963-e168-b266b5185057"
      },
      "execution_count": 28,
      "outputs": [
        {
          "output_type": "stream",
          "name": "stdout",
          "text": [
            "4.8\n",
            "4.0\n",
            "2.85657137141714\n",
            "2.86\n"
          ]
        }
      ]
    },
    {
      "cell_type": "code",
      "source": [
        "# Create a 3*3 matrix filled with 1s and multiply it by 5\n",
        "arr = np.random.randint(1, 10, (3, 3))\n",
        "print(arr)\n",
        "arr = arr * 5\n",
        "print(arr)"
      ],
      "metadata": {
        "colab": {
          "base_uri": "https://localhost:8080/"
        },
        "id": "6ozpMo9jMPcf",
        "outputId": "d0ebd9e4-9799-487b-a60b-68596e86e7b5"
      },
      "execution_count": 29,
      "outputs": [
        {
          "output_type": "stream",
          "name": "stdout",
          "text": [
            "[[8 5 9]\n",
            " [2 2 9]\n",
            " [7 8 4]]\n",
            "[[40 25 45]\n",
            " [10 10 45]\n",
            " [35 40 20]]\n"
          ]
        }
      ]
    },
    {
      "cell_type": "code",
      "source": [
        "# Indexing and slicing questions practice\n",
        "arr = np.array([[10, 20, 30, 40],\n",
        "                [50, 60, 70, 80],\n",
        "                [90, 100, 110, 120]])\n",
        "# Get the element at 2nd row, 3rd column (indexing)\n",
        "print(arr[1, 2])\n",
        "\n",
        "# Get the first row\n",
        "print(arr[0, :])\n",
        "\n",
        "# Get the last column\n",
        "print(arr[:, -1])\n",
        "\n",
        "# Get the 2nd and 3rd row\n",
        "print(arr[1:, :])\n",
        "\n",
        "# Get the entire first column\n",
        "print(arr[:, 0])\n",
        "\n",
        "# Get the entire second column\n",
        "print(arr[:, 1])\n",
        "\n",
        "# Get a 2*2 subarray from top left\n",
        "print(arr[:2, :2])\n",
        "\n",
        "# Get a 2*2 subarray from bottom right\n",
        "print(arr[1:, 1:])\n",
        "\n",
        "# Get all elements from row 1 to 2(inclusive), colimn 2 to 3(inclusive)\n",
        "print(arr[1:3, 1:3])\n",
        "\n",
        "# Get the last row using negative indexing\n",
        "print(arr[-1, :])\n",
        "\n",
        "# Get the last column using negative indexing\n",
        "print(arr[:, -1])\n",
        "\n",
        "# Get the last column using slicing\n",
        "print(arr[:, -1:])\n",
        "\n",
        "# Get every alternate element from the first row\n",
        "print(arr[0, ::2])\n",
        "\n",
        "# Get every alternate element from the second row\n",
        "print(arr[1, ::2])\n",
        "\n",
        "# Get every alternate element from the third row\n",
        "print(arr[2, ::2])\n",
        "\n",
        "# Flatten the array to 1D using slicing or function\n",
        "print(arr.flatten())\n",
        "# OR\n",
        "print(arr.reshape(-1))"
      ],
      "metadata": {
        "colab": {
          "base_uri": "https://localhost:8080/"
        },
        "id": "g_Du14_ANiwA",
        "outputId": "666bb0a0-7b5a-4f5b-f5ef-ab3397b57592"
      },
      "execution_count": 40,
      "outputs": [
        {
          "output_type": "stream",
          "name": "stdout",
          "text": [
            "70\n",
            "[10 20 30 40]\n",
            "[ 40  80 120]\n",
            "[[ 50  60  70  80]\n",
            " [ 90 100 110 120]]\n",
            "[10 50 90]\n",
            "[ 20  60 100]\n",
            "[[10 20]\n",
            " [50 60]]\n",
            "[[ 60  70  80]\n",
            " [100 110 120]]\n",
            "[[ 60  70]\n",
            " [100 110]]\n",
            "[ 90 100 110 120]\n",
            "[ 40  80 120]\n",
            "[[ 40]\n",
            " [ 80]\n",
            " [120]]\n",
            "[10 30]\n",
            "[50 70]\n",
            "[ 90 110]\n",
            "[ 10  20  30  40  50  60  70  80  90 100 110 120]\n",
            "[ 10  20  30  40  50  60  70  80  90 100 110 120]\n"
          ]
        }
      ]
    },
    {
      "cell_type": "code",
      "source": [],
      "metadata": {
        "id": "1NJl_EfhPIG1"
      },
      "execution_count": null,
      "outputs": []
    }
  ]
}