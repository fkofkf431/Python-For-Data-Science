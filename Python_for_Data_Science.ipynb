{
  "nbformat": 4,
  "nbformat_minor": 0,
  "metadata": {
    "colab": {
      "provenance": [],
      "authorship_tag": "ABX9TyPSTsF6vnpTVL8l2ItrxHej",
      "include_colab_link": true
    },
    "kernelspec": {
      "name": "python3",
      "display_name": "Python 3"
    },
    "language_info": {
      "name": "python"
    }
  },
  "cells": [
    {
      "cell_type": "markdown",
      "metadata": {
        "id": "view-in-github",
        "colab_type": "text"
      },
      "source": [
        "<a href=\"https://colab.research.google.com/github/fkofkf431/Python-For-Data-Science/blob/main/Python_for_Data_Science.ipynb\" target=\"_parent\"><img src=\"https://colab.research.google.com/assets/colab-badge.svg\" alt=\"Open In Colab\"/></a>"
      ]
    },
    {
      "cell_type": "markdown",
      "source": [
        "# **Loops in python**-\n",
        "# **for loop**- a for loop is used to repeat a task for every item in a collection(like a list, string etc).Jab hume kisi kaam ko bar bar karna ho,ek list ke har element par ,to hum for loop ka use karte hain. Basic Syntax--------- for variable in collection: code block"
      ],
      "metadata": {
        "id": "NgVnMP26bD2y"
      }
    },
    {
      "cell_type": "code",
      "source": [
        "# Print each students name in a collection of list\n",
        "students = [\"firoz\", \"rubina\", \"rohan\", \"Dua\"]\n",
        "for student in students:\n",
        "  print(\"Hello\", student)"
      ],
      "metadata": {
        "colab": {
          "base_uri": "https://localhost:8080/"
        },
        "id": "OCqy2sitdDgt",
        "outputId": "95162583-172c-4ab5-ccc9-9c381e59cbc0"
      },
      "execution_count": null,
      "outputs": [
        {
          "output_type": "stream",
          "name": "stdout",
          "text": [
            "Hello firoz\n",
            "Hello rubina\n",
            "Hello rohan\n",
            "Hello Dua\n"
          ]
        }
      ]
    },
    {
      "cell_type": "code",
      "source": [
        "# Print each character of your name\n",
        "name = \"Firoz\"\n",
        "for letter in name:\n",
        "  print(letter)"
      ],
      "metadata": {
        "colab": {
          "base_uri": "https://localhost:8080/"
        },
        "id": "55zbhxybdir0",
        "outputId": "17c29a57-e733-46aa-98b1-dc490ee9827f"
      },
      "execution_count": null,
      "outputs": [
        {
          "output_type": "stream",
          "name": "stdout",
          "text": [
            "F\n",
            "i\n",
            "r\n",
            "o\n",
            "z\n"
          ]
        }
      ]
    },
    {
      "cell_type": "code",
      "source": [
        "# Print numbers from 1 to 5\n",
        "for i in range(1,6):\n",
        "  print(i)"
      ],
      "metadata": {
        "colab": {
          "base_uri": "https://localhost:8080/"
        },
        "id": "y5qmokb9d77K",
        "outputId": "4c1a4bc6-f49a-4339-cf83-7725f633de0e"
      },
      "execution_count": null,
      "outputs": [
        {
          "output_type": "stream",
          "name": "stdout",
          "text": [
            "1\n",
            "2\n",
            "3\n",
            "4\n",
            "5\n"
          ]
        }
      ]
    },
    {
      "cell_type": "code",
      "source": [
        "# Sum of all items in a list\n",
        "expenses = [100, 200, 300, 400, 500]\n",
        "total = 0   # Start hota hai zero se\n",
        "for expense in expenses:\n",
        "  total = total + expense  # Ek ek karke yahan add hota rahega\n",
        "print(\"Total Expenses: \", total)"
      ],
      "metadata": {
        "colab": {
          "base_uri": "https://localhost:8080/"
        },
        "id": "UXT0GLk4jPEY",
        "outputId": "5c32aec1-fabc-4d28-9e91-332a4168fe7a"
      },
      "execution_count": null,
      "outputs": [
        {
          "output_type": "stream",
          "name": "stdout",
          "text": [
            "Total Expenses:  1500\n"
          ]
        }
      ]
    },
    {
      "cell_type": "code",
      "source": [
        "# Print only even numbers from 1 to 10\n",
        "for i in range(1, 11):\n",
        "  if i % 2 == 0:\n",
        "    print(i)"
      ],
      "metadata": {
        "colab": {
          "base_uri": "https://localhost:8080/"
        },
        "id": "L8XDNzhgkYCU",
        "outputId": "da21d6b7-2c44-4db5-da52-ce9bf38c0402"
      },
      "execution_count": null,
      "outputs": [
        {
          "output_type": "stream",
          "name": "stdout",
          "text": [
            "2\n",
            "4\n",
            "6\n",
            "8\n",
            "10\n"
          ]
        }
      ]
    },
    {
      "cell_type": "code",
      "source": [
        "# Nested for loop, loop inside loop\n",
        "for i in range(1, 4):\n",
        "  for j in range(1, 4):\n",
        "    print(i, j)"
      ],
      "metadata": {
        "colab": {
          "base_uri": "https://localhost:8080/"
        },
        "id": "ev8rFs2klfXs",
        "outputId": "95ddeeeb-b3e6-49da-d976-d74f59375a34"
      },
      "execution_count": null,
      "outputs": [
        {
          "output_type": "stream",
          "name": "stdout",
          "text": [
            "1 1\n",
            "1 2\n",
            "1 3\n",
            "2 1\n",
            "2 2\n",
            "2 3\n",
            "3 1\n",
            "3 2\n",
            "3 3\n"
          ]
        }
      ]
    },
    {
      "cell_type": "code",
      "source": [
        "# print all numbers from 1 to 10\n",
        "for i in range(1, 11):\n",
        "  print(i)"
      ],
      "metadata": {
        "colab": {
          "base_uri": "https://localhost:8080/"
        },
        "id": "0Xrpi5eil3zX",
        "outputId": "c0cb7e7a-b1b7-44e2-9488-69c769f79341"
      },
      "execution_count": null,
      "outputs": [
        {
          "output_type": "stream",
          "name": "stdout",
          "text": [
            "1\n",
            "2\n",
            "3\n",
            "4\n",
            "5\n",
            "6\n",
            "7\n",
            "8\n",
            "9\n",
            "10\n"
          ]
        }
      ]
    },
    {
      "cell_type": "code",
      "source": [
        "# Print all odd numbers from 1 to 10\n",
        "for i in range(1, 11):\n",
        "  if i % 2 != 0:\n",
        "    print(i)"
      ],
      "metadata": {
        "colab": {
          "base_uri": "https://localhost:8080/"
        },
        "id": "5W5zkpXJrVvS",
        "outputId": "5e90fa6e-d146-498f-dfaa-de254f48a0f6"
      },
      "execution_count": null,
      "outputs": [
        {
          "output_type": "stream",
          "name": "stdout",
          "text": [
            "1\n",
            "3\n",
            "5\n",
            "7\n",
            "9\n"
          ]
        }
      ]
    },
    {
      "cell_type": "code",
      "source": [
        "# Print each letters in the word \"PythonRocks\"\n",
        "word = \"PythonRocks\"\n",
        "for letter in word:\n",
        "  print(letter)"
      ],
      "metadata": {
        "colab": {
          "base_uri": "https://localhost:8080/"
        },
        "id": "7YGP7jZtrlOP",
        "outputId": "87efea13-8aea-4664-c56b-db8cea84faf7"
      },
      "execution_count": null,
      "outputs": [
        {
          "output_type": "stream",
          "name": "stdout",
          "text": [
            "P\n",
            "y\n",
            "t\n",
            "h\n",
            "o\n",
            "n\n",
            "R\n",
            "o\n",
            "c\n",
            "k\n",
            "s\n"
          ]
        }
      ]
    },
    {
      "cell_type": "code",
      "source": [
        "# print 5 fruits one by one\n",
        "fruits = [\"apple\", \"banana\", \"cherry\", \"date\", \"elderberry\"]\n",
        "for fruit in fruits:\n",
        "  print(fruit)"
      ],
      "metadata": {
        "colab": {
          "base_uri": "https://localhost:8080/"
        },
        "id": "wESIpNrcr4Bp",
        "outputId": "b2c4eb8e-ec12-4fb3-bc8b-e1379b615762"
      },
      "execution_count": null,
      "outputs": [
        {
          "output_type": "stream",
          "name": "stdout",
          "text": [
            "apple\n",
            "banana\n",
            "cherry\n",
            "date\n",
            "elderberry\n"
          ]
        }
      ]
    },
    {
      "cell_type": "code",
      "source": [
        "# Calculate total of marks in given list\n",
        "marks = [90, 80, 70, 60, 50]\n",
        "total = 0\n",
        "for mark in marks:\n",
        "  total += mark\n",
        "print(\"Total Marks: \", total)"
      ],
      "metadata": {
        "colab": {
          "base_uri": "https://localhost:8080/"
        },
        "id": "lQJlygK6sIN8",
        "outputId": "c9e40e91-c9ae-4741-b385-9cfd11e3491c"
      },
      "execution_count": null,
      "outputs": [
        {
          "output_type": "stream",
          "name": "stdout",
          "text": [
            "Total Marks:  350\n"
          ]
        }
      ]
    },
    {
      "cell_type": "code",
      "source": [
        "# Print a table of 5 using for loop\n",
        "for i in range(1, 11):\n",
        "  print(\"5 x\", i, \"=\", 5 * i)"
      ],
      "metadata": {
        "colab": {
          "base_uri": "https://localhost:8080/"
        },
        "id": "EDUNdfDosR3c",
        "outputId": "169011df-fe8c-4518-e242-0f31e8410b94"
      },
      "execution_count": null,
      "outputs": [
        {
          "output_type": "stream",
          "name": "stdout",
          "text": [
            "5 x 1 = 5\n",
            "5 x 2 = 10\n",
            "5 x 3 = 15\n",
            "5 x 4 = 20\n",
            "5 x 5 = 25\n",
            "5 x 6 = 30\n",
            "5 x 7 = 35\n",
            "5 x 8 = 40\n",
            "5 x 9 = 45\n",
            "5 x 10 = 50\n"
          ]
        }
      ]
    },
    {
      "cell_type": "code",
      "source": [
        "# Count how many vowels are in \"Hello Python World\"\n",
        "string = \"Hello Python World\"\n",
        "vowels = \"aeiouAEIOU\"  # humne bta diya ye vowels hain\n",
        "count = 0              # counting 0 se shuru hoti hai\n",
        "for char in string:\n",
        "  if char in vowels:\n",
        "    count += 1\n",
        "print(\"Number of vowels: \", count)"
      ],
      "metadata": {
        "colab": {
          "base_uri": "https://localhost:8080/"
        },
        "id": "pbL-iaaBsyZY",
        "outputId": "6e0957a0-66bd-4f16-a836-a6fab6bfea60"
      },
      "execution_count": null,
      "outputs": [
        {
          "output_type": "stream",
          "name": "stdout",
          "text": [
            "Number of vowels:  4\n"
          ]
        }
      ]
    },
    {
      "cell_type": "code",
      "source": [
        "# print square of numbers from 1 to 5\n",
        "for i in range(1, 6):\n",
        "  print(\"Square of\", i, \"is\", i * i)"
      ],
      "metadata": {
        "colab": {
          "base_uri": "https://localhost:8080/"
        },
        "id": "lTaQ_76Mt5X-",
        "outputId": "8522d85e-b57c-457c-d6a8-d1fd51ad8a92"
      },
      "execution_count": null,
      "outputs": [
        {
          "output_type": "stream",
          "name": "stdout",
          "text": [
            "Square of 1 is 1\n",
            "Square of 2 is 4\n",
            "Square of 3 is 9\n",
            "Square of 4 is 16\n",
            "Square of 5 is 25\n"
          ]
        }
      ]
    },
    {
      "cell_type": "code",
      "source": [
        "# Print the numbers from 10 to 1(reverse)\n",
        "for i in range(1, 11):\n",
        "  print(11 - i)"
      ],
      "metadata": {
        "colab": {
          "base_uri": "https://localhost:8080/"
        },
        "id": "6-64FSf3uJ0b",
        "outputId": "a842b7b1-883e-4bec-8867-de70aa80fb3b"
      },
      "execution_count": null,
      "outputs": [
        {
          "output_type": "stream",
          "name": "stdout",
          "text": [
            "10\n",
            "9\n",
            "8\n",
            "7\n",
            "6\n",
            "5\n",
            "4\n",
            "3\n",
            "2\n",
            "1\n"
          ]
        }
      ]
    },
    {
      "cell_type": "code",
      "source": [
        "# from given list print the numbers which are greater than 50\n",
        "numbers = [10, 20, 30, 40, 50, 60, 70, 80, 90, 100]\n",
        "for num in numbers:\n",
        "  if num > 50:\n",
        "    print(num)"
      ],
      "metadata": {
        "colab": {
          "base_uri": "https://localhost:8080/"
        },
        "id": "mOegrXfWuhVw",
        "outputId": "29c38d8c-65fa-4459-e359-277ad770ba6b"
      },
      "execution_count": null,
      "outputs": [
        {
          "output_type": "stream",
          "name": "stdout",
          "text": [
            "60\n",
            "70\n",
            "80\n",
            "90\n",
            "100\n"
          ]
        }
      ]
    },
    {
      "cell_type": "markdown",
      "source": [
        "# **while loop**- A while loop is used to repeat a block of code as long as a condition is true.Agar koi kaam jab tak karte rehna hai tab tak koi condition fullfil ho rahi ho.Basic syntax- while condition: code block"
      ],
      "metadata": {
        "id": "RrYaat5s3k5t"
      }
    },
    {
      "cell_type": "code",
      "source": [
        "# Counting from 1 to 5\n",
        "i = 1\n",
        "while i <= 5:\n",
        "  print(i)\n",
        "  i += 1"
      ],
      "metadata": {
        "colab": {
          "base_uri": "https://localhost:8080/"
        },
        "id": "Maq-yzdp0G-7",
        "outputId": "63c67198-e126-4757-fa40-25a0cf4bc7a1"
      },
      "execution_count": null,
      "outputs": [
        {
          "output_type": "stream",
          "name": "stdout",
          "text": [
            "1\n",
            "2\n",
            "3\n",
            "4\n",
            "5\n"
          ]
        }
      ]
    },
    {
      "cell_type": "code",
      "source": [
        "# ATM pin check - 3 attemts only\n",
        "correct_pin = \"1234\"\n",
        "attempts = 0\n",
        "\n",
        "while attempts < 3:\n",
        "  pin = input(\"Enter your pin: \")\n",
        "  if pin == correct_pin:\n",
        "    print(\"Pin accepted\")\n",
        "    break\n",
        "  else:\n",
        "    print(\"Incorrect pin\")\n",
        "    attempts += 1\n",
        "else:\n",
        "  print(\"Too many attempts\")\n"
      ],
      "metadata": {
        "id": "aYsDoUuu4Uc6",
        "colab": {
          "base_uri": "https://localhost:8080/"
        },
        "outputId": "e80cb7b7-c5f7-4eba-c7c8-510a075e039b"
      },
      "execution_count": null,
      "outputs": [
        {
          "output_type": "stream",
          "name": "stdout",
          "text": [
            "Enter your pin: 1234\n",
            "Pin accepted\n"
          ]
        }
      ]
    },
    {
      "cell_type": "code",
      "source": [
        "# Sum numbers untill user enter zero\n",
        "total = 0\n",
        "while True:\n",
        "  num = int(input(\"Enter a number: \"))\n",
        "  if num == 0:\n",
        "    break\n",
        "  total += num\n",
        "print(\"Total: \", total)"
      ],
      "metadata": {
        "colab": {
          "base_uri": "https://localhost:8080/"
        },
        "id": "XsFE33b47f3a",
        "outputId": "70b8f60b-ca2f-4af7-fe3a-9b087a401cda"
      },
      "execution_count": null,
      "outputs": [
        {
          "output_type": "stream",
          "name": "stdout",
          "text": [
            "Enter a number: 5\n",
            "Enter a number: 8\n",
            "Enter a number: 6\n",
            "Enter a number: 9\n",
            "Enter a number: 0\n",
            "Total:  28\n"
          ]
        }
      ]
    },
    {
      "cell_type": "code",
      "source": [
        "# Second method\n",
        "total = 0\n",
        "num = int(input(\"Enter a number: \"))\n",
        "while num != 0:\n",
        "  total += num\n",
        "  num = int(input(\"Enter a number: \"))\n",
        "print(\"Total: \", total)"
      ],
      "metadata": {
        "colab": {
          "base_uri": "https://localhost:8080/"
        },
        "id": "o1h9vSjG9vX3",
        "outputId": "4773195f-8903-47d0-a040-65db9f1e7f0e"
      },
      "execution_count": null,
      "outputs": [
        {
          "output_type": "stream",
          "name": "stdout",
          "text": [
            "Enter a number: 5\n",
            "Enter a number: 7\n",
            "Enter a number: 0\n",
            "Total:  12\n"
          ]
        }
      ]
    },
    {
      "cell_type": "code",
      "source": [
        "# countdown timer\n",
        "count = 5\n",
        "while count > 0:\n",
        "  print(\"countdown:\", count)\n",
        "  count -= 1\n",
        "print(\"Blast\")"
      ],
      "metadata": {
        "colab": {
          "base_uri": "https://localhost:8080/"
        },
        "id": "VIQfUpeX-MGQ",
        "outputId": "838097cb-50ea-447c-cf08-78b136b3c25d"
      },
      "execution_count": null,
      "outputs": [
        {
          "output_type": "stream",
          "name": "stdout",
          "text": [
            "countdown: 5\n",
            "countdown: 4\n",
            "countdown: 3\n",
            "countdown: 2\n",
            "countdown: 1\n",
            "Blast\n"
          ]
        }
      ]
    },
    {
      "cell_type": "code",
      "source": [
        "# infinite loop with break\n",
        "while True:\n",
        "  name = input(\"Enter your name: \")\n",
        "  if name != \"\":\n",
        "    break\n",
        "  print(\"Hello\", name)"
      ],
      "metadata": {
        "colab": {
          "base_uri": "https://localhost:8080/"
        },
        "id": "o6_xGPM2__ga",
        "outputId": "fbb66402-0059-4b21-b344-9f0edd0427c0"
      },
      "execution_count": null,
      "outputs": [
        {
          "name": "stdout",
          "output_type": "stream",
          "text": [
            "Enter your name: \n",
            "Hello \n",
            "Enter your name: \n",
            "Hello \n",
            "Enter your name: firoz\n"
          ]
        }
      ]
    },
    {
      "cell_type": "code",
      "source": [
        "# print numbers from 1 to 10 using while loop\n",
        "i = 1\n",
        "while i <= 10:\n",
        "  print(i)\n",
        "  i += 1"
      ],
      "metadata": {
        "colab": {
          "base_uri": "https://localhost:8080/"
        },
        "id": "UGRRcFKfNs6Z",
        "outputId": "ecf72b28-9c47-46ee-fa4f-27274207a90d"
      },
      "execution_count": null,
      "outputs": [
        {
          "output_type": "stream",
          "name": "stdout",
          "text": [
            "1\n",
            "2\n",
            "3\n",
            "4\n",
            "5\n",
            "6\n",
            "7\n",
            "8\n",
            "9\n",
            "10\n"
          ]
        }
      ]
    },
    {
      "cell_type": "code",
      "source": [
        "# Print all even numbers between 1 to 20\n",
        "i = 1\n",
        "while i <= 20:\n",
        "  if i % 2 == 0:\n",
        "    print(i)\n",
        "  i += 1"
      ],
      "metadata": {
        "colab": {
          "base_uri": "https://localhost:8080/"
        },
        "id": "6vn1sY4bOeSU",
        "outputId": "05b6b7f0-4482-4934-8f38-18763460a9b0"
      },
      "execution_count": null,
      "outputs": [
        {
          "output_type": "stream",
          "name": "stdout",
          "text": [
            "2\n",
            "4\n",
            "6\n",
            "8\n",
            "10\n",
            "12\n",
            "14\n",
            "16\n",
            "18\n",
            "20\n"
          ]
        }
      ]
    },
    {
      "cell_type": "code",
      "source": [
        "# count from 10 to 1 (inverse countdown)\n",
        "count = 10\n",
        "while count > 0:\n",
        "  print(count)\n",
        "  count -= 1\n"
      ],
      "metadata": {
        "colab": {
          "base_uri": "https://localhost:8080/"
        },
        "id": "1MK_qYnTO2xb",
        "outputId": "07a3860e-3f76-459d-c9fc-c89f68d2cd91"
      },
      "execution_count": null,
      "outputs": [
        {
          "output_type": "stream",
          "name": "stdout",
          "text": [
            "10\n",
            "9\n",
            "8\n",
            "7\n",
            "6\n",
            "5\n",
            "4\n",
            "3\n",
            "2\n",
            "1\n"
          ]
        }
      ]
    },
    {
      "cell_type": "code",
      "source": [
        "# Ask user to enter names untill they type stop and print all names\n",
        "names = input(\"Enter your name: \")\n",
        "while names != \"stop\":\n",
        "  print(names)\n",
        "  names = input(\"Enter names:\")"
      ],
      "metadata": {
        "colab": {
          "base_uri": "https://localhost:8080/"
        },
        "id": "eXKpki-0X8Xx",
        "outputId": "02885bc2-3f97-447e-8444-9befaf4812c8"
      },
      "execution_count": null,
      "outputs": [
        {
          "name": "stdout",
          "output_type": "stream",
          "text": [
            "Enter your name: firoz\n",
            "firoz\n",
            "Enter names:rubina\n",
            "rubina\n",
            "Enter names:dua\n",
            "dua\n",
            "Enter names:stop\n"
          ]
        }
      ]
    },
    {
      "cell_type": "code",
      "source": [
        "# Sum of digits of a number using while loop(eg- 123)\n",
        "num = int(input(\"Enter a number: \"))\n",
        "total = 0   # yahan hum Total sum store karenge digit ka\n",
        "while num > 0:\n",
        "  digit = num % 10   # 10 se kisi number ka modulus nikalenge to last digit ayegi hmesha,islye 10 modulus karte hain hmesha\n",
        "  total += digit     # Us digit ko total me add karte hain\n",
        "  num //= 10      # integer division last digit ko hata deta hai 10 se karne par,isliye 10 se karte hain\n",
        "print(\"Sum of digits: \", total)"
      ],
      "metadata": {
        "colab": {
          "base_uri": "https://localhost:8080/"
        },
        "id": "g3nd98F1Ytv1",
        "outputId": "a63951b1-e1ae-4015-93f0-b096596ad4f0"
      },
      "execution_count": null,
      "outputs": [
        {
          "output_type": "stream",
          "name": "stdout",
          "text": [
            "Enter a number: 786\n",
            "Sum of digits:  21\n"
          ]
        }
      ]
    },
    {
      "cell_type": "code",
      "source": [
        "# check if a number is a palindrome using while loop\n",
        "num = int(input(\"Enter Number\"))\n",
        "original = num    # Oroginal number ko alag store kar liya,kyu ke num ko hum reverse karne me change karenge\n",
        "reverse = 0       # Ek naya variable bnaya jisme hum reverse number banayenge\n",
        "while num > 0:    # har baar ek digit nikal kar reverse banayenge\n",
        "  digit = num % 10    # Last digit nikal rahe hain\n",
        "  reverse = reverse * 10 + digit    # jo digit mili hai usko reverse number me add kar rahe hain\n",
        "  num = num // 10      # last digit ko number se hata rahe hain\n",
        "if original == reverse:\n",
        "  print(\"Palindrome\")\n",
        "else:\n",
        "  print(\"Not Palindrome\")"
      ],
      "metadata": {
        "colab": {
          "base_uri": "https://localhost:8080/"
        },
        "id": "AqFYj2lLLtv4",
        "outputId": "5ecbfa57-51b4-4a0b-a582-f1ac0ac8d684"
      },
      "execution_count": null,
      "outputs": [
        {
          "output_type": "stream",
          "name": "stdout",
          "text": [
            "Enter Number434\n",
            "Palindrome\n"
          ]
        }
      ]
    },
    {
      "cell_type": "code",
      "source": [
        "# Create a login system with username and password max 3 attempt\n",
        "username = \"admin\"\n",
        "password = \"1234\"\n",
        "attempts = 0\n",
        "\n",
        "while attempts < 3:\n",
        "  user = input(\"Enter username: \")\n",
        "  passw = input(\"Enter password: \")\n",
        "  if user == username and passw == password:\n",
        "    print(\"Login Successful\")\n",
        "    break\n",
        "  else:\n",
        "    print(\"Incorrect username or password\")\n",
        "    attempts += 1\n",
        "else:\n",
        "  print(\"Too many attempts\")"
      ],
      "metadata": {
        "colab": {
          "base_uri": "https://localhost:8080/"
        },
        "id": "DuwoqtOjUVkN",
        "outputId": "98ed0c08-b5c5-404a-fc76-cbad02c46207"
      },
      "execution_count": null,
      "outputs": [
        {
          "output_type": "stream",
          "name": "stdout",
          "text": [
            "Enter username: admin\n",
            "Enter password: 1234\n",
            "Login Successful\n"
          ]
        }
      ]
    },
    {
      "cell_type": "code",
      "source": [
        "# ask the user to Enter numbers until total becomes greater than 100\n",
        "total = 0\n",
        "while total <= 100:\n",
        "  num = int(input(\"Enter a number: \"))\n",
        "  total += num\n",
        "print(\"Total: \", total)\n"
      ],
      "metadata": {
        "id": "wHCIQ1Y3YDJ5",
        "colab": {
          "base_uri": "https://localhost:8080/"
        },
        "outputId": "75b16b61-3057-4083-a829-5d1dc63df795"
      },
      "execution_count": null,
      "outputs": [
        {
          "output_type": "stream",
          "name": "stdout",
          "text": [
            "Enter a number: 50\n",
            "Enter a number: 50\n",
            "Enter a number: 50\n",
            "Total:  150\n"
          ]
        }
      ]
    },
    {
      "cell_type": "code",
      "source": [
        "# print squares of numbers from 1 to 5\n",
        "for i in range(1, 6):\n",
        "  print(\"Square of\", i, \"is\", i * i)"
      ],
      "metadata": {
        "colab": {
          "base_uri": "https://localhost:8080/"
        },
        "id": "k6pewMXrpXKa",
        "outputId": "c961732c-0de9-4897-8788-e731c89830f4"
      },
      "execution_count": null,
      "outputs": [
        {
          "output_type": "stream",
          "name": "stdout",
          "text": [
            "Square of 1 is 1\n",
            "Square of 2 is 4\n",
            "Square of 3 is 9\n",
            "Square of 4 is 16\n",
            "Square of 5 is 25\n"
          ]
        }
      ]
    },
    {
      "cell_type": "code",
      "source": [
        "# create a simple calculator that keeps running until user enters \"exit\"\n",
        "while True:\n",
        "  operations = input(\"Enter operation: \")\n",
        "  if operations.lower() == \"exit\":\n",
        "    break\n",
        "  num1 = int(input(\"Enter first number: \"))\n",
        "  num2 = int(input(\"Enter second number: \"))\n",
        "  if operations == \"+\":\n",
        "    print(num1 + num2)\n",
        "  elif operations == \"-\":\n",
        "    print(num1 - num2)\n",
        "  elif operations == \"*\":\n",
        "    print(num1 * num2)\n",
        "  elif operations == \"/\":\n",
        "    print(num1 / num2)\n",
        "  else:\n",
        "    print(\"Invalid operation\")"
      ],
      "metadata": {
        "colab": {
          "base_uri": "https://localhost:8080/"
        },
        "id": "D2M2xE9xrSdh",
        "outputId": "b8760539-cd99-482c-91bc-d8b9c28b859f"
      },
      "execution_count": null,
      "outputs": [
        {
          "name": "stdout",
          "output_type": "stream",
          "text": [
            "Enter operation: *\n",
            "Enter first number: 90\n",
            "Enter second number: 10\n",
            "900\n",
            "Enter operation: Exit\n"
          ]
        }
      ]
    },
    {
      "cell_type": "markdown",
      "source": [
        "# **if-else**- if- else is a desicion making structure.It checks a condition and runs code only if that condition is true, otherwise ,it runs another block.\n",
        "if condition:\n",
        "   \n",
        "   code executes if condition is true\n",
        "\n",
        "else:\n",
        "   \n",
        "   code executes if condition is false"
      ],
      "metadata": {
        "id": "NCt7eVjVXOnW"
      }
    },
    {
      "cell_type": "code",
      "source": [
        "# Voting eligibility\n",
        "age = int(input(\"Enter your age: \"))\n",
        "if age >= 18:\n",
        "  print(\"You are eligible to vote\")\n",
        "else:\n",
        "  print(\"You are not eligible to vote\")"
      ],
      "metadata": {
        "id": "9jWxhtcjsQ5y",
        "colab": {
          "base_uri": "https://localhost:8080/"
        },
        "outputId": "29ac0797-b370-4a13-9e06-984bf03658b6"
      },
      "execution_count": null,
      "outputs": [
        {
          "output_type": "stream",
          "name": "stdout",
          "text": [
            "Enter your age: 18\n",
            "You are eligible to vote\n"
          ]
        }
      ]
    },
    {
      "cell_type": "code",
      "source": [
        "# check if number is even or odd\n",
        "num = int(input(\"Enter a number: \"))\n",
        "if num % 2 == 0:\n",
        "  print(\"Even\")\n",
        "else:\n",
        "  print(\"Odd\")"
      ],
      "metadata": {
        "colab": {
          "base_uri": "https://localhost:8080/"
        },
        "id": "B8DjTKk5i-c7",
        "outputId": "254e7e3f-b26c-41ab-9445-2709d158ba09"
      },
      "execution_count": null,
      "outputs": [
        {
          "output_type": "stream",
          "name": "stdout",
          "text": [
            "Enter a number: 9\n",
            "Odd\n"
          ]
        }
      ]
    },
    {
      "cell_type": "code",
      "source": [
        "# Password check\n",
        "password = input(\"Enter password: \")\n",
        "if password == \"password\":\n",
        "  print(\"Password accepted\")\n",
        "else:\n",
        "  print(\"Incorrect password\")\n",
        "#"
      ],
      "metadata": {
        "colab": {
          "base_uri": "https://localhost:8080/"
        },
        "id": "51t0KYp3WE-f",
        "outputId": "9b362a53-700c-445d-f12f-a9a03ab0ce9b"
      },
      "execution_count": null,
      "outputs": [
        {
          "output_type": "stream",
          "name": "stdout",
          "text": [
            "Enter password: djjdjjdj\n",
            "Incorrect password\n"
          ]
        }
      ]
    },
    {
      "cell_type": "code",
      "source": [
        "# Discount system\n",
        "amount = float(input(\"Enter amount: \"))\n",
        "if amount >= 1000:\n",
        "  discount = amount * 0.1\n",
        "  print(\"Discount: \", discount)\n",
        "else:\n",
        "  print(\"No discount\")"
      ],
      "metadata": {
        "colab": {
          "base_uri": "https://localhost:8080/"
        },
        "id": "A4tExXZUWSjq",
        "outputId": "d867269e-6759-4137-976b-9cbb4a624787"
      },
      "execution_count": null,
      "outputs": [
        {
          "output_type": "stream",
          "name": "stdout",
          "text": [
            "Enter amount: 1200\n",
            "Discount:  120.0\n"
          ]
        }
      ]
    },
    {
      "cell_type": "code",
      "source": [
        "# Multiple condition if-elif-else\n",
        "marks = int(input(\"Enter your marks: \"))\n",
        "if marks >= 90:\n",
        "  print(\"Grade A\")\n",
        "elif marks >= 80:\n",
        "  print(\"Grade B\")\n",
        "elif marks >= 70:\n",
        "  print(\"Grade C\")\n",
        "elif marks >= 60:\n",
        "  print(\"Grade D\")\n",
        "else:\n",
        "  print(\"Fail\")"
      ],
      "metadata": {
        "colab": {
          "base_uri": "https://localhost:8080/"
        },
        "id": "Rkmt8xHjWgYf",
        "outputId": "350580ed-c992-41f9-e007-b36c279a1667"
      },
      "execution_count": null,
      "outputs": [
        {
          "output_type": "stream",
          "name": "stdout",
          "text": [
            "Enter your marks: 30\n",
            "Fail\n"
          ]
        }
      ]
    },
    {
      "cell_type": "code",
      "source": [
        "# Nested if else\n",
        "num = int(input(\"Enter a number: \"))\n",
        "if num >= 0:\n",
        "  if num == 0:\n",
        "    print(\"Zero\")\n",
        "  else:\n",
        "    print(\"Positive\")\n",
        "else:\n",
        "  print(\"Negative\")"
      ],
      "metadata": {
        "colab": {
          "base_uri": "https://localhost:8080/"
        },
        "id": "J2eA1qnZW46I",
        "outputId": "a84e730a-b688-48d5-f774-ff5e342d4160"
      },
      "execution_count": null,
      "outputs": [
        {
          "output_type": "stream",
          "name": "stdout",
          "text": [
            "Enter a number: -2\n",
            "Negative\n"
          ]
        }
      ]
    },
    {
      "cell_type": "code",
      "source": [
        "# Nested if\n",
        "age = 20\n",
        "citizen = True\n",
        "if age >= 18:\n",
        "  if citizen:\n",
        "    print(\"Eligible to vote\")\n",
        "  else:\n",
        "    print(\"Not a citizen\")\n",
        "else:\n",
        "  print(\"Not eligible to vote\")"
      ],
      "metadata": {
        "colab": {
          "base_uri": "https://localhost:8080/"
        },
        "id": "ZJoTAbfMXPKj",
        "outputId": "a57cb35e-e9be-42c5-8410-ca24b6b705e0"
      },
      "execution_count": null,
      "outputs": [
        {
          "output_type": "stream",
          "name": "stdout",
          "text": [
            "Eligible to vote\n"
          ]
        }
      ]
    },
    {
      "cell_type": "code",
      "source": [
        "# Ternary operator ( shortcut if else)\n",
        "age = 18\n",
        "message = \"Eligible to vote\" if age >= 18 else \"Not eligible to vote\"\n",
        "print(message)"
      ],
      "metadata": {
        "colab": {
          "base_uri": "https://localhost:8080/"
        },
        "id": "tFfAvoRNX5ho",
        "outputId": "628bb31d-350b-4712-ac95-8b9636b2c7c5"
      },
      "execution_count": null,
      "outputs": [
        {
          "output_type": "stream",
          "name": "stdout",
          "text": [
            "Eligible to vote\n"
          ]
        }
      ]
    },
    {
      "cell_type": "code",
      "source": [
        "# Take a number as input and check if it is positive,negative or zero\n",
        "num = int(input(\"Enter a number: \"))\n",
        "if num > 0:\n",
        "  print(\"Positive\")\n",
        "elif num < 0:\n",
        "  print(\"Negative\")\n",
        "else:\n",
        "  print(\"Number is zero\")"
      ],
      "metadata": {
        "colab": {
          "base_uri": "https://localhost:8080/"
        },
        "id": "CCxexOj_5TRw",
        "outputId": "0a23f9c2-7d35-47bd-c6a3-204a60851d75"
      },
      "execution_count": null,
      "outputs": [
        {
          "output_type": "stream",
          "name": "stdout",
          "text": [
            "Enter a number: -2\n",
            "Negative\n"
          ]
        }
      ]
    },
    {
      "cell_type": "code",
      "source": [
        "# Ask a user for their age and print \"Teenager\" if between 13-19, else \"not ateenager\".\n",
        "age = int(input(\"Enter your age: \"))\n",
        "if age >= 13 and age <= 19:\n",
        "  print(\"Teenager\")\n",
        "else:\n",
        "  print(\"Not a teenager\")"
      ],
      "metadata": {
        "colab": {
          "base_uri": "https://localhost:8080/"
        },
        "id": "mPOOCy3s5-CC",
        "outputId": "c9a19c4a-e1c4-48cf-e8ae-9ca419fa0b01"
      },
      "execution_count": null,
      "outputs": [
        {
          "output_type": "stream",
          "name": "stdout",
          "text": [
            "Enter your age: 7\n",
            "Not a teenager\n"
          ]
        }
      ]
    },
    {
      "cell_type": "code",
      "source": [
        "# write a program to check whether a year is a leap year or not\n",
        "year = int(input(\"Enter a year: \"))\n",
        "if (year % 4 == 0 and year % 100 != 0) or (year % 400 == 0):\n",
        "  print(\"Leap year\")\n",
        "else:\n",
        "  print(\"Not a leap year\")"
      ],
      "metadata": {
        "colab": {
          "base_uri": "https://localhost:8080/"
        },
        "id": "w92nUfSZ6Ywp",
        "outputId": "4cd7e6dc-82b8-49f9-9cf1-5b56e0c614a7"
      },
      "execution_count": null,
      "outputs": [
        {
          "output_type": "stream",
          "name": "stdout",
          "text": [
            "Enter a year: 2025\n",
            "Not a leap year\n"
          ]
        }
      ]
    },
    {
      "cell_type": "code",
      "source": [
        "# Ask the user for temperature. If > 30 print hot, elif between 20-30 print warm, else cold\n",
        "temp = float(input(\"Enter temperature: \"))\n",
        "if temp > 30:\n",
        "  print(\"Hot\")\n",
        "elif temp >= 20 and temp <= 30:\n",
        "  print(\"Warm\")\n",
        "else:\n",
        "  print(\"Cold\")"
      ],
      "metadata": {
        "id": "lX3kC9Hi7ZM7",
        "colab": {
          "base_uri": "https://localhost:8080/"
        },
        "outputId": "ace98733-37d3-4d76-b74e-94d84fce0907"
      },
      "execution_count": null,
      "outputs": [
        {
          "output_type": "stream",
          "name": "stdout",
          "text": [
            "Enter temperature: 25\n",
            "Warm\n"
          ]
        }
      ]
    },
    {
      "cell_type": "code",
      "source": [
        "# create a login system where the user must enter the correct username and password\n",
        "username = \"admin\"\n",
        "password = \"1234\"\n",
        "user = input(\"Enter username: \")\n",
        "passw = input(\"Enter password: \")\n",
        "if user == username and passw == password:\n",
        "  print(\"Login Successful\")"
      ],
      "metadata": {
        "colab": {
          "base_uri": "https://localhost:8080/"
        },
        "id": "F5ItMy1QKGXZ",
        "outputId": "5863b523-655e-4678-f376-901769ce2a0d"
      },
      "execution_count": null,
      "outputs": [
        {
          "output_type": "stream",
          "name": "stdout",
          "text": [
            "Enter username: admin\n",
            "Enter password: 1234\n",
            "Login Successful\n"
          ]
        }
      ]
    },
    {
      "cell_type": "code",
      "source": [
        "# take 3 numbers and find the largest\n",
        "num1 = int(input(\"Enter first number: \"))\n",
        "num2 = int(input(\"Enter second number: \"))\n",
        "num3 = int(input(\"Enter third number: \"))\n",
        "if num1 > num2 and num1 > num3:\n",
        "  print(\"Largest: \", num1)\n",
        "elif num2 > num1 and num2 > num3:\n",
        "  print(\"Largest: \", num2)\n",
        "else:\n",
        "  print(\"Largest: \", num3)"
      ],
      "metadata": {
        "colab": {
          "base_uri": "https://localhost:8080/"
        },
        "id": "W_2TJYCHKfJO",
        "outputId": "ff1fc9e4-ec55-4ad9-e0fe-26980d4a1a94"
      },
      "execution_count": null,
      "outputs": [
        {
          "output_type": "stream",
          "name": "stdout",
          "text": [
            "Enter first number: 9\n",
            "Enter second number: 7\n",
            "Enter third number: 5\n",
            "Largest:  9\n"
          ]
        }
      ]
    },
    {
      "cell_type": "code",
      "source": [
        "# Ask for a number and print divisible by 3,if divisible, else  not divisible by 3\n",
        "num = int(input(\"Enter a number: \"))\n",
        "if num % 3 == 0:\n",
        "  print(\"Divisible by 3\")\n",
        "else:\n",
        "  print(\"Not divisible by 3\")"
      ],
      "metadata": {
        "colab": {
          "base_uri": "https://localhost:8080/"
        },
        "id": "tpJsKtL3LtoN",
        "outputId": "cebb8778-a3f4-417d-b317-c41ba3055f77"
      },
      "execution_count": null,
      "outputs": [
        {
          "output_type": "stream",
          "name": "stdout",
          "text": [
            "Enter a number: 8\n",
            "Not divisible by 3\n"
          ]
        }
      ]
    },
    {
      "cell_type": "code",
      "source": [
        "# Take a mark input, if >= 90, print excillent, if >= 60 print good, else fail\n",
        "mark = int(input(\"Enter your mark: \"))\n",
        "if mark >= 90:\n",
        "  print(\"Excellent\")\n",
        "elif mark >= 60:\n",
        "  print(\"Good\")\n",
        "else:\n",
        "  print(\"Fail\")"
      ],
      "metadata": {
        "colab": {
          "base_uri": "https://localhost:8080/"
        },
        "id": "ugAKPyALNjF-",
        "outputId": "e2183d93-5796-4685-a08d-14aee450659e"
      },
      "execution_count": null,
      "outputs": [
        {
          "output_type": "stream",
          "name": "stdout",
          "text": [
            "Enter your mark: 70\n",
            "Good\n"
          ]
        }
      ]
    },
    {
      "cell_type": "code",
      "source": [
        "# Check whether a character is a vowel or consonant\n",
        "vowel = \"aeiouAEIOU\"\n",
        "char = input(\"Enter a character: \")\n",
        "if char in vowel:\n",
        "  print(\"Vowel\")\n",
        "else:\n",
        "  print(\"Consonant\")"
      ],
      "metadata": {
        "colab": {
          "base_uri": "https://localhost:8080/"
        },
        "id": "0nRXsqOGN3bS",
        "outputId": "620f04c7-cb4d-4fa2-fb7a-ce7fb55b752b"
      },
      "execution_count": null,
      "outputs": [
        {
          "output_type": "stream",
          "name": "stdout",
          "text": [
            "Enter a character: g\n",
            "Consonant\n"
          ]
        }
      ]
    },
    {
      "cell_type": "code",
      "source": [
        "# Use a ternary operator to check if a number is even or odd\n",
        "num = int(input(\"Enter a number: \"))\n",
        "message = \"Even\" if num % 2 == 0 else \"Odd\"\n",
        "print(message)"
      ],
      "metadata": {
        "colab": {
          "base_uri": "https://localhost:8080/"
        },
        "id": "50ARiHZTOL30",
        "outputId": "175801b3-b365-4109-cf31-80a879976f82"
      },
      "execution_count": null,
      "outputs": [
        {
          "output_type": "stream",
          "name": "stdout",
          "text": [
            "Enter a number: 6\n",
            "Even\n"
          ]
        }
      ]
    },
    {
      "cell_type": "markdown",
      "source": [
        "# **Functions**- Imp function (def, return, lambda, *args, kwargs)- A function is a block of code that runs only when you call it.It helps avoid repeating code.Make programs shorter and easier to maintain.Can take input(parameters) and can return output."
      ],
      "metadata": {
        "id": "X8LYTADJO7DR"
      }
    },
    {
      "cell_type": "markdown",
      "source": [
        "# **def**- defining a function- syntax- def function_name(parameters): code block than return something.-- def- keyword to define a function, function_name- must be meaningful, parameters- optional;variables to recieve input, return-optional; sends result back."
      ],
      "metadata": {
        "id": "7tvMCyi8RITf"
      }
    },
    {
      "cell_type": "code",
      "source": [
        "# function with no parameters\n",
        "def greet():\n",
        "  print(\"Hello\")\n",
        "greet()"
      ],
      "metadata": {
        "colab": {
          "base_uri": "https://localhost:8080/"
        },
        "id": "-7oxA2AfOmHF",
        "outputId": "3705b7e0-bda4-4f43-b152-7f2bae0c8def"
      },
      "execution_count": null,
      "outputs": [
        {
          "output_type": "stream",
          "name": "stdout",
          "text": [
            "Hello\n"
          ]
        }
      ]
    },
    {
      "cell_type": "code",
      "source": [
        "# Function with parameters\n",
        "def greet(name):\n",
        "  print(\"Hello\", name)  #name is a parameter\n",
        "greet(\"Firoz\")   # Firoz is the argument passed"
      ],
      "metadata": {
        "colab": {
          "base_uri": "https://localhost:8080/"
        },
        "id": "1c6OGxKdTv0p",
        "outputId": "7d979fe5-3ee5-4e80-c215-74fe3bf68a4b"
      },
      "execution_count": null,
      "outputs": [
        {
          "output_type": "stream",
          "name": "stdout",
          "text": [
            "Hello Firoz\n"
          ]
        }
      ]
    },
    {
      "cell_type": "code",
      "source": [
        "# function returning a value-- function with return\n",
        "def add(a, b):\n",
        "  return a + b    # return sends the result back, if dont use return, the function will output none.\n",
        "result = add(2, 3)\n",
        "print(result)"
      ],
      "metadata": {
        "colab": {
          "base_uri": "https://localhost:8080/"
        },
        "id": "MIWj8BIUUPtt",
        "outputId": "aba75fd4-7cf4-4765-bde9-58709e385a5c"
      },
      "execution_count": null,
      "outputs": [
        {
          "output_type": "stream",
          "name": "stdout",
          "text": [
            "5\n"
          ]
        }
      ]
    },
    {
      "cell_type": "code",
      "source": [
        "# why return is useful\n",
        "def square(x):\n",
        "  return x * x\n",
        "result = square(4)\n",
        "print(result)     # if we had only print inside the function,we could not use its result later"
      ],
      "metadata": {
        "colab": {
          "base_uri": "https://localhost:8080/"
        },
        "id": "YoSBm89cUppO",
        "outputId": "d003fa25-737c-4dd6-cd5c-9fab06f50761"
      },
      "execution_count": null,
      "outputs": [
        {
          "output_type": "stream",
          "name": "stdout",
          "text": [
            "16\n"
          ]
        }
      ]
    },
    {
      "cell_type": "code",
      "source": [
        "# Function without return\n",
        "def add(a, b):\n",
        "  print(a+b)\n",
        "result = add(2, 3)\n",
        "print(result)"
      ],
      "metadata": {
        "colab": {
          "base_uri": "https://localhost:8080/"
        },
        "id": "WTeh1fFAVHO1",
        "outputId": "e963c016-2e61-41bb-a80f-8be4b4634a43"
      },
      "execution_count": null,
      "outputs": [
        {
          "output_type": "stream",
          "name": "stdout",
          "text": [
            "5\n",
            "None\n"
          ]
        }
      ]
    },
    {
      "cell_type": "code",
      "source": [
        "# returning multiple values\n",
        "def calculate(a, b):\n",
        "  return a + b, a - b, a * b, a / b\n",
        "result = calculate(4, 2)\n",
        "print(result)"
      ],
      "metadata": {
        "colab": {
          "base_uri": "https://localhost:8080/"
        },
        "id": "pe2j3dqUWVyU",
        "outputId": "fd833cbb-6db8-4233-9590-8bea1c238891"
      },
      "execution_count": null,
      "outputs": [
        {
          "output_type": "stream",
          "name": "stdout",
          "text": [
            "(6, 2, 8, 2.0)\n"
          ]
        }
      ]
    },
    {
      "cell_type": "markdown",
      "source": [
        "# **lambda function**- A small anonymous function(no name).define using lambda keyword.Usually used for quick, simple operations. syntax- lambda arguments: expression.. Sorting, mapping and filtering ke liye use kiya jata hai one line code likhne me."
      ],
      "metadata": {
        "id": "ZZ7359QIW5qI"
      }
    },
    {
      "cell_type": "code",
      "source": [
        "# Simple lambda\n",
        "square = lambda x: x * x\n",
        "result = square(5)\n",
        "print(result)   # Ya direct print(square(5)) bhi use kar sakte hain"
      ],
      "metadata": {
        "colab": {
          "base_uri": "https://localhost:8080/"
        },
        "id": "AqtfAWw4Wvk0",
        "outputId": "35b65c2c-0ffd-4e66-c559-de13929e1163"
      },
      "execution_count": null,
      "outputs": [
        {
          "output_type": "stream",
          "name": "stdout",
          "text": [
            "25\n"
          ]
        }
      ]
    },
    {
      "cell_type": "code",
      "source": [
        "# Add two numbers using lambda function\n",
        "add = lambda a, b: a + b\n",
        "print(add(3, 4))"
      ],
      "metadata": {
        "colab": {
          "base_uri": "https://localhost:8080/"
        },
        "id": "9qwmb_5CX7mG",
        "outputId": "ba783911-c2e0-4fcc-83d2-e3f714ac7101"
      },
      "execution_count": null,
      "outputs": [
        {
          "output_type": "stream",
          "name": "stdout",
          "text": [
            "7\n"
          ]
        }
      ]
    },
    {
      "cell_type": "code",
      "source": [
        "# lambda with map() function\n",
        "numbers = [1, 2, 3, 4, 5]\n",
        "squared = list(map(lambda x: x * x, numbers))\n",
        "print(squared)"
      ],
      "metadata": {
        "colab": {
          "base_uri": "https://localhost:8080/"
        },
        "id": "O0GeUsjqYM2c",
        "outputId": "9aebe1bc-7f40-4081-d967-f3901f992d6f"
      },
      "execution_count": null,
      "outputs": [
        {
          "output_type": "stream",
          "name": "stdout",
          "text": [
            "[1, 4, 9, 16, 25]\n"
          ]
        }
      ]
    },
    {
      "cell_type": "markdown",
      "source": [
        "# **args**-(Arbitrary positional arguments)- jab hume pata nhi hota ki function ko kitne arguments milenge tab hum args use karte hain. ye saare extra arguments ko tuple ki form me store karta hai. Allow you to pass any number of arguments.Inside the function, they are sorted as a tuple.\n",
        "# **kwargs**- kwargs ka matlb hota hai arbitrary keyword arguments.Jab hume nhi pata hota ki function ko kitne key value pairs milenge,tab hum kwargs ka use karte hain.Ye saare extra keyword arguments ko dictionary ki form me store karta hai.\n",
        "# **kyu aur kab use karte hain**- function ko flexible banane ke liye, jab input ki exact quantity pehle se pata na ho. Kab- jab user/customers ke inputs har baar alag alag hote hain.APIs, data preprocessing aur ML models me jab parametrs dynamically change hote hain."
      ],
      "metadata": {
        "id": "Qkyg-Se6ilPc"
      }
    },
    {
      "cell_type": "code",
      "source": [
        "# Pizza order system using *args\n",
        "def make_pizza(*toppings):\n",
        "  print(\"Making a pizza with the following toppings:\")\n",
        "  for topping in toppings:\n",
        "    print(topping)\n",
        "make_pizza(\"cheese\", \"tomato\", \"mushrooms\")\n",
        "make_pizza(\"cheese\", \"paneer\")"
      ],
      "metadata": {
        "colab": {
          "base_uri": "https://localhost:8080/"
        },
        "id": "8V9DbXOxiN-I",
        "outputId": "b149af52-fe37-45b0-b6f4-d033743f98d2"
      },
      "execution_count": null,
      "outputs": [
        {
          "output_type": "stream",
          "name": "stdout",
          "text": [
            "Making a pizza with the following toppings:\n",
            "cheese\n",
            "tomato\n",
            "mushrooms\n",
            "Making a pizza with the following toppings:\n",
            "cheese\n",
            "paneer\n"
          ]
        }
      ]
    },
    {
      "cell_type": "code",
      "source": [
        "# using **kwargs make customer profile system\n",
        "def create_profile(**customer):\n",
        "  print(\"customer profile:\")\n",
        "  for key, value in customer.items():\n",
        "    print(key, \":\", value)\n",
        "create_profile(name=\"John\", age=25, city=\"New York\")\n",
        "create_profile(name=\"Alice\", age=30, city=\"London\", occupation=\"Engineer\")"
      ],
      "metadata": {
        "colab": {
          "base_uri": "https://localhost:8080/"
        },
        "id": "NC2HddM6mxc4",
        "outputId": "2cf03e9e-8dfa-4394-8247-b9824b32d102"
      },
      "execution_count": null,
      "outputs": [
        {
          "output_type": "stream",
          "name": "stdout",
          "text": [
            "customer profile:\n",
            "name : John\n",
            "age : 25\n",
            "city : New York\n",
            "customer profile:\n",
            "name : Alice\n",
            "age : 30\n",
            "city : London\n",
            "occupation : Engineer\n"
          ]
        }
      ]
    },
    {
      "cell_type": "code",
      "source": [
        "# example using both *args and **kwargs\n",
        "def order_summary(order_id, *items, **details):\n",
        "  print(\"Order ID:\", order_id)\n",
        "  print(\"Items:\")\n",
        "  for item in items:\n",
        "    print(\"-\", item)\n",
        "  print(\"Details:\", details)\n",
        "\n",
        "order_summary(101, \"Burger\", \"Fries\", address=\"Delhi\", payment=\"UPI\")"
      ],
      "metadata": {
        "colab": {
          "base_uri": "https://localhost:8080/"
        },
        "id": "ouHRBmnTnZtc",
        "outputId": "36d5b5dc-0c62-42be-c48b-40da73da104f"
      },
      "execution_count": null,
      "outputs": [
        {
          "output_type": "stream",
          "name": "stdout",
          "text": [
            "Order ID: 101\n",
            "Items:\n",
            "- Burger\n",
            "- Fries\n",
            "Details: {'address': 'Delhi', 'payment': 'UPI'}\n"
          ]
        }
      ]
    },
    {
      "cell_type": "code",
      "source": [
        "# Sum of all numbers using *args\n",
        "def total_sum(*args):\n",
        "    return sum(args)\n",
        "print(total_sum(1, 2, 3, 4, 5))"
      ],
      "metadata": {
        "colab": {
          "base_uri": "https://localhost:8080/"
        },
        "id": "rTAYrzJzobSV",
        "outputId": "9bb5ee9b-af67-4c1e-cac9-0bfaff3851ff"
      },
      "execution_count": null,
      "outputs": [
        {
          "output_type": "stream",
          "name": "stdout",
          "text": [
            "15\n"
          ]
        }
      ]
    },
    {
      "cell_type": "code",
      "source": [
        "# Print all items using *args\n",
        "def show_items(*args):\n",
        "    for item in args:\n",
        "        print(item)\n",
        "show_items(\"apple\", \"banana\", \"orange\")"
      ],
      "metadata": {
        "colab": {
          "base_uri": "https://localhost:8080/"
        },
        "id": "gRh6Y2IIpnoq",
        "outputId": "07aba9b8-d168-4310-bc55-f842e12f50d3"
      },
      "execution_count": null,
      "outputs": [
        {
          "output_type": "stream",
          "name": "stdout",
          "text": [
            "apple\n",
            "banana\n",
            "orange\n"
          ]
        }
      ]
    },
    {
      "cell_type": "code",
      "source": [
        "# print details using **kwargs\n",
        "def print_details(**kwargs):\n",
        "  for key, value in kwargs.items():\n",
        "    print(key, \":\", value)\n",
        "print_details(name=\"John\", age=25, city = \"Delhi\")"
      ],
      "metadata": {
        "colab": {
          "base_uri": "https://localhost:8080/"
        },
        "id": "za1go1faqKqe",
        "outputId": "914de913-74f5-4c52-f1dd-2f2f0734723b"
      },
      "execution_count": null,
      "outputs": [
        {
          "output_type": "stream",
          "name": "stdout",
          "text": [
            "name : John\n",
            "age : 25\n",
            "city : Delhi\n"
          ]
        }
      ]
    },
    {
      "cell_type": "code",
      "source": [
        "# Mixing *args and **kwargs\n",
        "def show_data(*args, **kwargs):\n",
        "  print(\"args:\", args)\n",
        "  print(\"kwargs:\", kwargs)\n",
        "show_data(1, 2, 3, name=\"John\", age=25)"
      ],
      "metadata": {
        "colab": {
          "base_uri": "https://localhost:8080/"
        },
        "id": "pMLIIvvCrLT5",
        "outputId": "1090e57f-abac-4fe8-85b6-b627e4f7f622"
      },
      "execution_count": null,
      "outputs": [
        {
          "output_type": "stream",
          "name": "stdout",
          "text": [
            "args: (1, 2, 3)\n",
            "kwargs: {'name': 'John', 'age': 25}\n"
          ]
        }
      ]
    },
    {
      "cell_type": "code",
      "source": [
        "# Write a function multiply(a, b) that return the product of two numbers\n",
        "def multiply(a, b):\n",
        "  return a*b\n",
        "multiply(4, 5)"
      ],
      "metadata": {
        "id": "zBmsLA1Wrm0h",
        "colab": {
          "base_uri": "https://localhost:8080/"
        },
        "outputId": "a1d822a0-a515-4fcf-c956-58f85d3cc2f2"
      },
      "execution_count": null,
      "outputs": [
        {
          "output_type": "execute_result",
          "data": {
            "text/plain": [
              "20"
            ]
          },
          "metadata": {},
          "execution_count": 1
        }
      ]
    },
    {
      "cell_type": "code",
      "source": [
        "# Create a function is_even(num) that returns True if a number is even, otherwisw False\n",
        "def is_even(num):\n",
        "  if num % 2 == 0:\n",
        "    return True\n",
        "  else:\n",
        "    return False\n",
        "is_even(9)"
      ],
      "metadata": {
        "colab": {
          "base_uri": "https://localhost:8080/"
        },
        "id": "uYkN6Wzy1L-Z",
        "outputId": "b109f985-780a-4c40-a3ce-07b2eb7b2df8"
      },
      "execution_count": null,
      "outputs": [
        {
          "output_type": "execute_result",
          "data": {
            "text/plain": [
              "False"
            ]
          },
          "metadata": {},
          "execution_count": 4
        }
      ]
    },
    {
      "cell_type": "code",
      "source": [
        "# Write a function that takes a number and return both its square and cube\n",
        "def square_cube(num):\n",
        "  square = num * num\n",
        "  cube = num * num * num\n",
        "  return square, cube\n",
        "square_cube(5)"
      ],
      "metadata": {
        "colab": {
          "base_uri": "https://localhost:8080/"
        },
        "id": "N-gzIKmv2DDE",
        "outputId": "5c7b03d2-3f3e-484e-bd33-3a5f4ca17b11"
      },
      "execution_count": null,
      "outputs": [
        {
          "output_type": "execute_result",
          "data": {
            "text/plain": [
              "(25, 125)"
            ]
          },
          "metadata": {},
          "execution_count": 5
        }
      ]
    },
    {
      "cell_type": "code",
      "source": [
        "# Make a function convert_to_upper_case(text) that returns the upper case version of the string\n",
        "def convert_to_upper_case(text):\n",
        "  return text.upper()\n",
        "convert_to_upper_case(\"hello\")\n"
      ],
      "metadata": {
        "colab": {
          "base_uri": "https://localhost:8080/",
          "height": 35
        },
        "id": "yJF0fHJ_2dhB",
        "outputId": "c959f38a-15ed-40f0-a090-97a86e9aa665"
      },
      "execution_count": null,
      "outputs": [
        {
          "output_type": "execute_result",
          "data": {
            "text/plain": [
              "'HELLO'"
            ],
            "application/vnd.google.colaboratory.intrinsic+json": {
              "type": "string"
            }
          },
          "metadata": {},
          "execution_count": 6
        }
      ]
    },
    {
      "cell_type": "code",
      "source": [
        "# Create a function that takes three numbers and return their average\n",
        "def average_of_three(a, b, c):\n",
        "  return (a + b + c) / 3\n",
        "average_of_three(1, 2, 3)"
      ],
      "metadata": {
        "colab": {
          "base_uri": "https://localhost:8080/"
        },
        "id": "9P29K72K28c2",
        "outputId": "1c1f25aa-96e0-4f88-868a-e4747a606426"
      },
      "execution_count": null,
      "outputs": [
        {
          "output_type": "execute_result",
          "data": {
            "text/plain": [
              "2.0"
            ]
          },
          "metadata": {},
          "execution_count": 7
        }
      ]
    },
    {
      "cell_type": "code",
      "source": [
        "# Using a lambda function to check whether a given string is a palindrome\n",
        "is_palindrome = lambda s: s == s[::-1]\n",
        "print(is_palindrome(\"madam\"))"
      ],
      "metadata": {
        "colab": {
          "base_uri": "https://localhost:8080/"
        },
        "id": "XdxEV81k3Sob",
        "outputId": "6e05363c-e35e-4c52-9009-9fa165eaf1cf"
      },
      "execution_count": null,
      "outputs": [
        {
          "output_type": "stream",
          "name": "stdout",
          "text": [
            "True\n"
          ]
        }
      ]
    },
    {
      "cell_type": "code",
      "source": [
        "# Make a list [2,4,6,8] and use map and lambda to divide each number by 2\n",
        "numbers = [2, 4, 6, 8]\n",
        "result = list(map(lambda x: x / 2, numbers))\n",
        "print(result)"
      ],
      "metadata": {
        "colab": {
          "base_uri": "https://localhost:8080/"
        },
        "id": "-nNyssLz3jmI",
        "outputId": "e02d5cbe-3aea-461f-86d2-34d45fc2bfd2"
      },
      "execution_count": null,
      "outputs": [
        {
          "output_type": "stream",
          "name": "stdout",
          "text": [
            "[1.0, 2.0, 3.0, 4.0]\n"
          ]
        }
      ]
    },
    {
      "cell_type": "code",
      "source": [
        "# Use filter () and lambda to get only numbers greater than 10 from the list [4, 5, 11, 2, 23, 8, 15]\n",
        "numbers = [4, 5, 11, 2, 23, 8, 15]\n",
        "result = list(filter(lambda x: x > 10, numbers))\n",
        "print(result)"
      ],
      "metadata": {
        "colab": {
          "base_uri": "https://localhost:8080/"
        },
        "id": "dEm9m0sG4mbH",
        "outputId": "bc8f09b0-da12-4cd9-d5ef-039de20863b0"
      },
      "execution_count": null,
      "outputs": [
        {
          "output_type": "stream",
          "name": "stdout",
          "text": [
            "[11, 23, 15]\n"
          ]
        }
      ]
    },
    {
      "cell_type": "code",
      "source": [
        "# Write a function max_value(*args) that returns the largest number from any number of arguments\n",
        "def max_value(*args):\n",
        "  if not args:\n",
        "    return \"No number provided\"\n",
        "  return max(args)\n",
        "max_value(1, 2, 3, 4, 5)"
      ],
      "metadata": {
        "colab": {
          "base_uri": "https://localhost:8080/"
        },
        "id": "bnlTOrP45ZU-",
        "outputId": "a9ff8945-308f-4576-ed5a-5578903792e3"
      },
      "execution_count": null,
      "outputs": [
        {
          "output_type": "execute_result",
          "data": {
            "text/plain": [
              "5"
            ]
          },
          "metadata": {},
          "execution_count": 12
        }
      ]
    },
    {
      "cell_type": "code",
      "source": [
        "# create a function print_items(*args) that prints each item on a new line\n",
        "def print_items(*args):\n",
        "  for item in args:\n",
        "    print(item)\n",
        "print_items(\"apple\", \"banana\", \"orange\")"
      ],
      "metadata": {
        "colab": {
          "base_uri": "https://localhost:8080/"
        },
        "id": "BfNVF82Z6Pkl",
        "outputId": "b67fe971-8419-443d-979a-a12633858b96"
      },
      "execution_count": null,
      "outputs": [
        {
          "output_type": "stream",
          "name": "stdout",
          "text": [
            "apple\n",
            "banana\n",
            "orange\n"
          ]
        }
      ]
    },
    {
      "cell_type": "code",
      "source": [
        "# Make a function student_info(**kwargs) that print keys and values\n",
        "def student_info(**kwargs):\n",
        "  for key, value in kwargs.items():\n",
        "    print(key, \":\", value)\n",
        "student_info(name=\"John\", age=25, city = \"Delhi\")"
      ],
      "metadata": {
        "colab": {
          "base_uri": "https://localhost:8080/"
        },
        "id": "5MWYJToh6_y3",
        "outputId": "91be65fd-744f-4dc1-f27f-60100f4b68e8"
      },
      "execution_count": null,
      "outputs": [
        {
          "output_type": "stream",
          "name": "stdout",
          "text": [
            "name : John\n",
            "age : 25\n",
            "city : Delhi\n"
          ]
        }
      ]
    },
    {
      "cell_type": "code",
      "source": [
        "# Create a function that accepts *args for subjects and **kwargs for student details and print both\n",
        "def student_details(*args, **kwargs):\n",
        "  print(\"Subjects:\")\n",
        "  for subject in args:\n",
        "    print(\"-\", subject)\n",
        "  print(\"Student Details:\")\n",
        "  for key, value in kwargs.items():\n",
        "    print(key, \":\", value)\n",
        "student_details(\"Math\", \"Science\", \"English\", name= \"Firoz\", age = 35, course = \"Data Science\")"
      ],
      "metadata": {
        "colab": {
          "base_uri": "https://localhost:8080/"
        },
        "id": "LcvPJxPx7feL",
        "outputId": "eefb4716-10eb-4d17-dc55-beec8df07f7b"
      },
      "execution_count": null,
      "outputs": [
        {
          "output_type": "stream",
          "name": "stdout",
          "text": [
            "Subjects:\n",
            "- Math\n",
            "- Science\n",
            "- English\n",
            "Student Details:\n",
            "name : Firoz\n",
            "age : 35\n",
            "course : Data Science\n"
          ]
        }
      ]
    },
    {
      "cell_type": "markdown",
      "source": [
        "# **try-except**-(error handling in python) Pyhton program me agar koi error aa jaye,jese input galat ho to poora program crash na ho isliye hum try-except use karte hain. try: code that may cause error,  except: what to do if error occurs"
      ],
      "metadata": {
        "id": "RDz0s7OG-xhq"
      }
    },
    {
      "cell_type": "code",
      "source": [
        "# division by zero using try and except\n",
        "try:\n",
        "  a = int(input(\"Enter first number: \"))\n",
        "  b = int(input(\"Enter second number: \"))\n",
        "  result = a / b\n",
        "  print(\"Result: \", result)\n",
        "except ZeroDivisionError:\n",
        "  print(\"Error: Division by zero\")"
      ],
      "metadata": {
        "colab": {
          "base_uri": "https://localhost:8080/"
        },
        "id": "XIPwD_In_uvQ",
        "outputId": "478fff56-8e0f-455e-f260-7ba7970fd6c5"
      },
      "execution_count": null,
      "outputs": [
        {
          "output_type": "stream",
          "name": "stdout",
          "text": [
            "Enter first number: 10\n",
            "Enter second number: 5\n",
            "Result:  2.0\n"
          ]
        }
      ]
    },
    {
      "cell_type": "code",
      "source": [
        "# Invalid input, use try and except\n",
        "try:\n",
        "  age = int(input(\"Enter youe age: \"))\n",
        "  print(\"You entered:\", age)\n",
        "except ValueError:\n",
        "  print(\"Please enter a valid number\")"
      ],
      "metadata": {
        "colab": {
          "base_uri": "https://localhost:8080/"
        },
        "id": "mL6T5ZErII2I",
        "outputId": "dc920559-a094-4c87-a2b4-7c55078629e5"
      },
      "execution_count": null,
      "outputs": [
        {
          "output_type": "stream",
          "name": "stdout",
          "text": [
            "Enter youe age: d\n",
            "Please enter a valid number\n"
          ]
        }
      ]
    },
    {
      "cell_type": "markdown",
      "source": [
        "# **enumerate function**- (loop with index) enumerate() is a built in function that adds a counter(index) to an iterable (like a list, tuple , string etc) and returns it as an enumerate object.It adds a counter(index) when looping over list, string, tuple etc. enumerate(iterable, start = o)... iterable = list, string, tuple etc and start = the starting index(default is 0)-- syntax-- for index, item in enumerate(iterable): # use index and item"
      ],
      "metadata": {
        "id": "U6G8xb5wKNFk"
      }
    },
    {
      "cell_type": "code",
      "source": [
        "# Without enumerate() function\n",
        "fruits = [\"apple\", \"banana\", \"mango\"]\n",
        "index = 0\n",
        "for fruit in fruits:\n",
        "  print(index, fruit)\n",
        "  index += 1"
      ],
      "metadata": {
        "colab": {
          "base_uri": "https://localhost:8080/"
        },
        "id": "1C6-CJ7LJLSH",
        "outputId": "1eabe41c-5d49-4efd-ceb0-e69723e72626"
      },
      "execution_count": null,
      "outputs": [
        {
          "output_type": "stream",
          "name": "stdout",
          "text": [
            "0 apple\n",
            "1 banana\n",
            "2 mango\n"
          ]
        }
      ]
    },
    {
      "cell_type": "code",
      "source": [
        "# Using enumerate() function- much cleaner\n",
        "fruits = [\"apple\", \"banana\", \"mango\"]\n",
        "for index, fruit in enumerate(fruits):\n",
        "  print(index, fruit)"
      ],
      "metadata": {
        "colab": {
          "base_uri": "https://localhost:8080/"
        },
        "id": "R0wGsYLyL4OF",
        "outputId": "ef278442-3de5-4ad0-98b1-68ec293afd6e"
      },
      "execution_count": null,
      "outputs": [
        {
          "output_type": "stream",
          "name": "stdout",
          "text": [
            "0 apple\n",
            "1 banana\n",
            "2 mango\n"
          ]
        }
      ]
    },
    {
      "cell_type": "code",
      "source": [
        "# looping over characters using enumerate()\n",
        "text = \"Firoz\"\n",
        "for i, char in enumerate(text):\n",
        "  print(i, char)"
      ],
      "metadata": {
        "colab": {
          "base_uri": "https://localhost:8080/"
        },
        "id": "hH_DtrXyMRD-",
        "outputId": "710edff3-728c-4f56-97d5-ba6faf533424"
      },
      "execution_count": null,
      "outputs": [
        {
          "output_type": "stream",
          "name": "stdout",
          "text": [
            "0 F\n",
            "1 i\n",
            "2 r\n",
            "3 o\n",
            "4 z\n"
          ]
        }
      ]
    },
    {
      "cell_type": "code",
      "source": [
        "# simple shopping cart\n",
        "cart = []\n",
        "total = 0\n",
        "while True:\n",
        "  try:\n",
        "    item = input(\"Enter item name or done to finish: \")\n",
        "    if item.lower() == \"done\":\n",
        "      break\n",
        "    price = float(input(\"Enter price for the item: \"))\n",
        "    cart.append((item, price))\n",
        "    total += price\n",
        "  except ValueError:\n",
        "    print(\"Enter a valid price!\")\n",
        "print(\"\\n your cart: \")\n",
        "for i, (item, price) in enumerate(cart):\n",
        "  print(str(i+1) + \". \" + item + \": \" + str(price))\n",
        "print(\"\\nTotal amount: \", total)"
      ],
      "metadata": {
        "colab": {
          "base_uri": "https://localhost:8080/"
        },
        "id": "ESwhdKgFOUkO",
        "outputId": "a7c33bf1-8331-456e-97fc-1bbe5b94ca29"
      },
      "execution_count": null,
      "outputs": [
        {
          "output_type": "stream",
          "name": "stdout",
          "text": [
            "Enter item name or done to finish: mango\n",
            "Enter price for the item: 400\n",
            "Enter item name or done to finish: apple\n",
            "Enter price for the item: 500\n",
            "Enter item name or done to finish: banana\n",
            "Enter price for the item: 300\n",
            "Enter item name or done to finish: done\n",
            "\n",
            " your cart: \n",
            "1. mango: 400.0\n",
            "2. apple: 500.0\n",
            "3. banana: 300.0\n",
            "\n",
            "Total amount:  1200.0\n"
          ]
        }
      ]
    },
    {
      "cell_type": "code",
      "source": [
        "# Write a program that handles division of two numbers using try except\n",
        "def divide_numbers(a, b):\n",
        "  try:\n",
        "    result = a / b\n",
        "    print(result)\n",
        "  except ZeroDivisionError:\n",
        "    print(\"Error: can not divide by zero\")\n",
        "divide_numbers(4, 0)"
      ],
      "metadata": {
        "colab": {
          "base_uri": "https://localhost:8080/"
        },
        "id": "rcRyELBzRKkw",
        "outputId": "be5856f6-00c7-41bf-9785-f94a9b48eab8"
      },
      "execution_count": null,
      "outputs": [
        {
          "output_type": "stream",
          "name": "stdout",
          "text": [
            "Error: can not divide by zero\n"
          ]
        }
      ]
    },
    {
      "cell_type": "code",
      "source": [
        "# Ask the user to enter age, if they type letters,catch the error and show a friendly message\n",
        "try:\n",
        "  age = int(input(\"Enter your age: \"))\n",
        "  print(\"Your age is: \", age)\n",
        "except ValueError:\n",
        "  print(\"Invalid input! Please enter your age only in numbers\")"
      ],
      "metadata": {
        "colab": {
          "base_uri": "https://localhost:8080/"
        },
        "id": "o-jUoC8qTOog",
        "outputId": "3dcb2ff8-1ecf-4da8-f232-04a6ea4e723c"
      },
      "execution_count": null,
      "outputs": [
        {
          "output_type": "stream",
          "name": "stdout",
          "text": [
            "Enter your age: d\n",
            "Invalid input! Please enter your age only in numbers\n"
          ]
        }
      ]
    },
    {
      "cell_type": "code",
      "source": [
        "# Loop through a list of students and print their names with roll numbers using enumerate() function\n",
        "students = ['fiorz', 'rubina', 'dua', 'faraz']\n",
        "for roll, name in enumerate(students, start = 7):\n",
        "  print(\"Roll No: \", roll, \"Name: \", name)"
      ],
      "metadata": {
        "colab": {
          "base_uri": "https://localhost:8080/"
        },
        "id": "NKdVh7ZuYwhv",
        "outputId": "e0865d57-3f13-4fd6-a2fd-bff5cbc58988"
      },
      "execution_count": null,
      "outputs": [
        {
          "output_type": "stream",
          "name": "stdout",
          "text": [
            "Roll No:  7 Name:  fiorz\n",
            "Roll No:  8 Name:  rubina\n",
            "Roll No:  9 Name:  dua\n",
            "Roll No:  10 Name:  faraz\n"
          ]
        }
      ]
    },
    {
      "cell_type": "code",
      "source": [
        "# create a list of task and print them with serial numbers\n",
        "tasks = [\"wake up\", \"study python\", \"do exercise\", \"read a book\", \"sleep early\"]\n",
        "for serial, task in enumerate(tasks, start = 1):\n",
        "  print(serial, task)"
      ],
      "metadata": {
        "colab": {
          "base_uri": "https://localhost:8080/"
        },
        "id": "NKc2UKPtgwqN",
        "outputId": "411fc6e6-1f14-44d7-cd92-cf08827ea6ad"
      },
      "execution_count": null,
      "outputs": [
        {
          "output_type": "stream",
          "name": "stdout",
          "text": [
            "1 wake up\n",
            "2 study python\n",
            "3 do exercise\n",
            "4 read a book\n",
            "5 sleep early\n"
          ]
        }
      ]
    },
    {
      "cell_type": "markdown",
      "source": [
        "# **Python OOPs Concept**- Humare ghar me ek fan hai,market me kai tarah ke fan milte hain jese, usha fan, bajaj fan, orient fan. Har fan me speed hoti hai,color hota hai,on off switch hota hai.Toh: Fan ek design hai,jisko hum bolte hain class. Usha fan,orient fan etc ye us class ke objects hain.Python me class and object ka mtlb- CLASS = Blueprint/Template and OBJECT = Real item created from that template."
      ],
      "metadata": {
        "id": "OHFwYLKQrfSU"
      }
    },
    {
      "cell_type": "code",
      "source": [
        "# Step 1: Class banao\n",
        "class Fan:\n",
        "  def __init__(self, brand, speed):   # Constructor\n",
        "    self.brand = brand   # Attribute\n",
        "    self.speed = speed   # Attribute\n",
        "\n",
        "  def turn_on(self):    # Method\n",
        "    print(f\"{self.brand} fan is ON at speed {self.speed}\")\n",
        "\n",
        "# Ab tak kya hua:-\n",
        "# Fan--class\n",
        "# __init__()- jab object banate ho, ye function automatic chal jata hai\n",
        "# Self-- jisko object bana rahe ho,uska reference\n",
        "\n",
        "# Ab object banao (Real Fan)\n",
        "f1 = Fan(\"Usha\", 3)\n",
        "f2 = Fan(\"Bajaj\", 5)\n",
        "\n",
        "# Method ko call karo\n",
        "f1.turn_on()\n",
        "f2.turn_on()\n",
        "\n",
        "# self kya karta hai- Jab aap f1.turn_on() likhte ho,python turn_on() method ko call karta hai, aur self me f1 chala jata hai.\n",
        "# Toh self.brand ka matlb = f1.brand\n",
        "\n",
        "# Summary:-\n",
        "# class- Design/template(jese fan ka design)\n",
        "# object- Real item(jese usha fan)\n",
        "# __init__()- object banate time chalne wala function\n",
        "# self- jis object par kaam ho raha hai,uska refrence\n"
      ],
      "metadata": {
        "id": "_TEl8DeAqLGP",
        "colab": {
          "base_uri": "https://localhost:8080/"
        },
        "outputId": "771958e9-e81d-41dc-96de-5af780681f76"
      },
      "execution_count": 1,
      "outputs": [
        {
          "output_type": "stream",
          "name": "stdout",
          "text": [
            "Usha fan is ON at speed 3\n",
            "Bajaj fan is ON at speed 5\n"
          ]
        }
      ]
    },
    {
      "cell_type": "code",
      "source": [
        "# Ek class student banao jisme name aur marks ho.Method ho show()\n",
        "class Student:\n",
        "  def __init__(self, name, marks):   # constructor\n",
        "    self.name = name   # Object ka naam\n",
        "    self.marks = marks   # object ke marks\n",
        "  def show(self):  # method\n",
        "    print(self.name, \"got\", self.marks, \"marks.\")\n",
        "\n",
        "#object banao\n",
        "s1 = Student(\"Firoz\", 92)\n",
        "s2 = Student(\"Rubina\", 89)\n",
        "\n",
        "# Method ko call kro\n",
        "s1.show()\n",
        "s2.show()"
      ],
      "metadata": {
        "colab": {
          "base_uri": "https://localhost:8080/"
        },
        "id": "U3fdJF8LUb5W",
        "outputId": "625b17b4-60f1-499e-c18a-c54263707e34"
      },
      "execution_count": 3,
      "outputs": [
        {
          "output_type": "stream",
          "name": "stdout",
          "text": [
            "Firoz got 92 marks.\n",
            "Rubina got 89 marks.\n"
          ]
        }
      ]
    },
    {
      "cell_type": "code",
      "source": [
        "# Ek class laptop banao jisme brand aur ram ho.And method ho specs().\n",
        "class Laptop:\n",
        "  def __init__(self, brand, ram):   # Constructor\n",
        "    self.brand = brand  # Object ka naam\n",
        "    self.ram = ram  # Object ka naam\n",
        "  def specs(self): # Method\n",
        "    print(self.brand, \"Has\", self.ram, \"GB RAM\")\n",
        "# Object banao\n",
        "l1 = Laptop(\"Dell\", 32)\n",
        "l2 = Laptop(\"HP\", 16)\n",
        "# Method ko call kro\n",
        "l1.specs()\n",
        "l2.specs()\n"
      ],
      "metadata": {
        "colab": {
          "base_uri": "https://localhost:8080/"
        },
        "id": "0eQ5xEepXTwW",
        "outputId": "fc6a668a-3371-464d-d748-b5b5049f46d4"
      },
      "execution_count": 5,
      "outputs": [
        {
          "output_type": "stream",
          "name": "stdout",
          "text": [
            "Dell Has 32 GB RAM\n",
            "HP Has 16 GB RAM\n"
          ]
        }
      ]
    },
    {
      "cell_type": "code",
      "source": [
        "# Ek class movie banao jisme title aur duration ho.Method ho play().\n",
        "class Movie:\n",
        "  def __init__(self, title, duration):   # Constructor\n",
        "    self.title = title\n",
        "    self.duration = duration   # Object name\n",
        "  def play(self):   # method\n",
        "    print(\"Playing\", self.title, \"for\", self.duration, \"Hours\")\n",
        "   # object\n",
        "# object\n",
        "m1 = Movie(\"Dhoom\", 2.40)\n",
        "m2 = Movie(\"Don\", 3)\n",
        "#Method ko call\n",
        "m1.play()\n",
        "m2.play()"
      ],
      "metadata": {
        "colab": {
          "base_uri": "https://localhost:8080/"
        },
        "id": "aDmHcav2ZE87",
        "outputId": "39909a84-fdec-4e69-aa83-73dd447a229f"
      },
      "execution_count": 5,
      "outputs": [
        {
          "output_type": "stream",
          "name": "stdout",
          "text": [
            "Playing Dhoom for 2.4 Hours\n",
            "Playing Don for 3 Hours\n"
          ]
        }
      ]
    },
    {
      "cell_type": "code",
      "source": [
        "# Ek class employee banao jisme name aur salary ho. Method show_info()\n",
        "class Employee:\n",
        "  def __init__(self, name, salary):   # constructor\n",
        "    self.name = name\n",
        "    self.salary = salary  # object name\n",
        "  def show_info(self):   # method\n",
        "    print(\"The Salary of\", self.name, \"is\", self.salary, \"per month.\")\n",
        "# object\n",
        "e1 = Employee(\"Fiorz\", 70000)\n",
        "e2 = Employee(\"Rubina\", 80000)\n",
        "# Method ko call\n",
        "e1.show_info()\n",
        "e2.show_info()"
      ],
      "metadata": {
        "colab": {
          "base_uri": "https://localhost:8080/"
        },
        "id": "xrHFrBiC5Whq",
        "outputId": "2dc95f90-250f-475a-f51d-2ebd493fab09"
      },
      "execution_count": 6,
      "outputs": [
        {
          "output_type": "stream",
          "name": "stdout",
          "text": [
            "The Salary of Fiorz is 70000 per month.\n",
            "The Salary of Rubina is 80000 per month.\n"
          ]
        }
      ]
    },
    {
      "cell_type": "code",
      "source": [
        "# ek class mobile banao jisme brand aur price ho.method ho details\n",
        "class Mobile:\n",
        "  def __init__(self, brand, price):   # constructor\n",
        "    self.brand = brand\n",
        "    self.price = price  # object name\n",
        "  def details(self):   # method\n",
        "    print(self.brand, \"costs\", self.price, \"rupees.\")\n",
        "# object\n",
        "m1 = Mobile(\"Samsung\", 10000)\n",
        "m2 = Mobile(\"Apple\", 20000)\n",
        "# Method ko call\n",
        "m1.details()\n",
        "m2.details()"
      ],
      "metadata": {
        "colab": {
          "base_uri": "https://localhost:8080/"
        },
        "id": "KXqJ9xbEAbXN",
        "outputId": "06f9de5a-1be9-497e-913f-a1a96d73ecfe"
      },
      "execution_count": 8,
      "outputs": [
        {
          "output_type": "stream",
          "name": "stdout",
          "text": [
            "Samsung costs 10000 rupees.\n",
            "Apple costs 20000 rupees.\n"
          ]
        }
      ]
    },
    {
      "cell_type": "code",
      "source": [],
      "metadata": {
        "id": "JeVHabYwArXN"
      },
      "execution_count": null,
      "outputs": []
    }
  ]
}