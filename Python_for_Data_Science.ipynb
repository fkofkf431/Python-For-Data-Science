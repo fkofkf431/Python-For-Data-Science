{
  "nbformat": 4,
  "nbformat_minor": 0,
  "metadata": {
    "colab": {
      "provenance": [],
      "authorship_tag": "ABX9TyOmivsilmkNJQuqtLEniP7G",
      "include_colab_link": true
    },
    "kernelspec": {
      "name": "python3",
      "display_name": "Python 3"
    },
    "language_info": {
      "name": "python"
    }
  },
  "cells": [
    {
      "cell_type": "markdown",
      "metadata": {
        "id": "view-in-github",
        "colab_type": "text"
      },
      "source": [
        "<a href=\"https://colab.research.google.com/github/fkofkf431/Python-For-Data-Science/blob/main/Python_for_Data_Science.ipynb\" target=\"_parent\"><img src=\"https://colab.research.google.com/assets/colab-badge.svg\" alt=\"Open In Colab\"/></a>"
      ]
    },
    {
      "cell_type": "markdown",
      "source": [
        "# **Loops in python**-\n",
        "# **for loop**- a for loop is used to repeat a task for every item in a collection(like a list, string etc).Jab hume kisi kaam ko bar bar karna ho,ek list ke har element par ,to hum for loop ka use karte hain. Basic Syntax--------- for variable in collection: code block"
      ],
      "metadata": {
        "id": "NgVnMP26bD2y"
      }
    },
    {
      "cell_type": "code",
      "source": [
        "# Print each students name in a collection of list\n",
        "students = [\"firoz\", \"rubina\", \"rohan\", \"Dua\"]\n",
        "for student in students:\n",
        "  print(\"Hello\", student)"
      ],
      "metadata": {
        "colab": {
          "base_uri": "https://localhost:8080/"
        },
        "id": "OCqy2sitdDgt",
        "outputId": "95162583-172c-4ab5-ccc9-9c381e59cbc0"
      },
      "execution_count": null,
      "outputs": [
        {
          "output_type": "stream",
          "name": "stdout",
          "text": [
            "Hello firoz\n",
            "Hello rubina\n",
            "Hello rohan\n",
            "Hello Dua\n"
          ]
        }
      ]
    },
    {
      "cell_type": "code",
      "source": [
        "# Print each character of your name\n",
        "name = \"Firoz\"\n",
        "for letter in name:\n",
        "  print(letter)"
      ],
      "metadata": {
        "colab": {
          "base_uri": "https://localhost:8080/"
        },
        "id": "55zbhxybdir0",
        "outputId": "17c29a57-e733-46aa-98b1-dc490ee9827f"
      },
      "execution_count": null,
      "outputs": [
        {
          "output_type": "stream",
          "name": "stdout",
          "text": [
            "F\n",
            "i\n",
            "r\n",
            "o\n",
            "z\n"
          ]
        }
      ]
    },
    {
      "cell_type": "code",
      "source": [
        "# Print numbers from 1 to 5\n",
        "for i in range(1,6):\n",
        "  print(i)"
      ],
      "metadata": {
        "colab": {
          "base_uri": "https://localhost:8080/"
        },
        "id": "y5qmokb9d77K",
        "outputId": "4c1a4bc6-f49a-4339-cf83-7725f633de0e"
      },
      "execution_count": null,
      "outputs": [
        {
          "output_type": "stream",
          "name": "stdout",
          "text": [
            "1\n",
            "2\n",
            "3\n",
            "4\n",
            "5\n"
          ]
        }
      ]
    },
    {
      "cell_type": "code",
      "source": [
        "# Sum of all items in a list\n",
        "expenses = [100, 200, 300, 400, 500]\n",
        "total = 0   # Start hota hai zero se\n",
        "for expense in expenses:\n",
        "  total = total + expense  # Ek ek karke yahan add hota rahega\n",
        "print(\"Total Expenses: \", total)"
      ],
      "metadata": {
        "colab": {
          "base_uri": "https://localhost:8080/"
        },
        "id": "UXT0GLk4jPEY",
        "outputId": "5c32aec1-fabc-4d28-9e91-332a4168fe7a"
      },
      "execution_count": null,
      "outputs": [
        {
          "output_type": "stream",
          "name": "stdout",
          "text": [
            "Total Expenses:  1500\n"
          ]
        }
      ]
    },
    {
      "cell_type": "code",
      "source": [
        "# Print only even numbers from 1 to 10\n",
        "for i in range(1, 11):\n",
        "  if i % 2 == 0:\n",
        "    print(i)"
      ],
      "metadata": {
        "colab": {
          "base_uri": "https://localhost:8080/"
        },
        "id": "L8XDNzhgkYCU",
        "outputId": "da21d6b7-2c44-4db5-da52-ce9bf38c0402"
      },
      "execution_count": null,
      "outputs": [
        {
          "output_type": "stream",
          "name": "stdout",
          "text": [
            "2\n",
            "4\n",
            "6\n",
            "8\n",
            "10\n"
          ]
        }
      ]
    },
    {
      "cell_type": "code",
      "source": [
        "# Nested for loop, loop inside loop\n",
        "for i in range(1, 4):\n",
        "  for j in range(1, 4):\n",
        "    print(i, j)"
      ],
      "metadata": {
        "colab": {
          "base_uri": "https://localhost:8080/"
        },
        "id": "ev8rFs2klfXs",
        "outputId": "95ddeeeb-b3e6-49da-d976-d74f59375a34"
      },
      "execution_count": null,
      "outputs": [
        {
          "output_type": "stream",
          "name": "stdout",
          "text": [
            "1 1\n",
            "1 2\n",
            "1 3\n",
            "2 1\n",
            "2 2\n",
            "2 3\n",
            "3 1\n",
            "3 2\n",
            "3 3\n"
          ]
        }
      ]
    },
    {
      "cell_type": "code",
      "source": [
        "# print all numbers from 1 to 10\n",
        "for i in range(1, 11):\n",
        "  print(i)"
      ],
      "metadata": {
        "colab": {
          "base_uri": "https://localhost:8080/"
        },
        "id": "0Xrpi5eil3zX",
        "outputId": "c0cb7e7a-b1b7-44e2-9488-69c769f79341"
      },
      "execution_count": null,
      "outputs": [
        {
          "output_type": "stream",
          "name": "stdout",
          "text": [
            "1\n",
            "2\n",
            "3\n",
            "4\n",
            "5\n",
            "6\n",
            "7\n",
            "8\n",
            "9\n",
            "10\n"
          ]
        }
      ]
    },
    {
      "cell_type": "code",
      "source": [
        "# Print all odd numbers from 1 to 10\n",
        "for i in range(1, 11):\n",
        "  if i % 2 != 0:\n",
        "    print(i)"
      ],
      "metadata": {
        "colab": {
          "base_uri": "https://localhost:8080/"
        },
        "id": "5W5zkpXJrVvS",
        "outputId": "5e90fa6e-d146-498f-dfaa-de254f48a0f6"
      },
      "execution_count": null,
      "outputs": [
        {
          "output_type": "stream",
          "name": "stdout",
          "text": [
            "1\n",
            "3\n",
            "5\n",
            "7\n",
            "9\n"
          ]
        }
      ]
    },
    {
      "cell_type": "code",
      "source": [
        "# Print each letters in the word \"PythonRocks\"\n",
        "word = \"PythonRocks\"\n",
        "for letter in word:\n",
        "  print(letter)"
      ],
      "metadata": {
        "colab": {
          "base_uri": "https://localhost:8080/"
        },
        "id": "7YGP7jZtrlOP",
        "outputId": "87efea13-8aea-4664-c56b-db8cea84faf7"
      },
      "execution_count": null,
      "outputs": [
        {
          "output_type": "stream",
          "name": "stdout",
          "text": [
            "P\n",
            "y\n",
            "t\n",
            "h\n",
            "o\n",
            "n\n",
            "R\n",
            "o\n",
            "c\n",
            "k\n",
            "s\n"
          ]
        }
      ]
    },
    {
      "cell_type": "code",
      "source": [
        "# print 5 fruits one by one\n",
        "fruits = [\"apple\", \"banana\", \"cherry\", \"date\", \"elderberry\"]\n",
        "for fruit in fruits:\n",
        "  print(fruit)"
      ],
      "metadata": {
        "colab": {
          "base_uri": "https://localhost:8080/"
        },
        "id": "wESIpNrcr4Bp",
        "outputId": "b2c4eb8e-ec12-4fb3-bc8b-e1379b615762"
      },
      "execution_count": null,
      "outputs": [
        {
          "output_type": "stream",
          "name": "stdout",
          "text": [
            "apple\n",
            "banana\n",
            "cherry\n",
            "date\n",
            "elderberry\n"
          ]
        }
      ]
    },
    {
      "cell_type": "code",
      "source": [
        "# Calculate total of marks in given list\n",
        "marks = [90, 80, 70, 60, 50]\n",
        "total = 0\n",
        "for mark in marks:\n",
        "  total += mark\n",
        "print(\"Total Marks: \", total)"
      ],
      "metadata": {
        "colab": {
          "base_uri": "https://localhost:8080/"
        },
        "id": "lQJlygK6sIN8",
        "outputId": "c9e40e91-c9ae-4741-b385-9cfd11e3491c"
      },
      "execution_count": null,
      "outputs": [
        {
          "output_type": "stream",
          "name": "stdout",
          "text": [
            "Total Marks:  350\n"
          ]
        }
      ]
    },
    {
      "cell_type": "code",
      "source": [
        "# Print a table of 5 using for loop\n",
        "for i in range(1, 11):\n",
        "  print(\"5 x\", i, \"=\", 5 * i)"
      ],
      "metadata": {
        "colab": {
          "base_uri": "https://localhost:8080/"
        },
        "id": "EDUNdfDosR3c",
        "outputId": "169011df-fe8c-4518-e242-0f31e8410b94"
      },
      "execution_count": null,
      "outputs": [
        {
          "output_type": "stream",
          "name": "stdout",
          "text": [
            "5 x 1 = 5\n",
            "5 x 2 = 10\n",
            "5 x 3 = 15\n",
            "5 x 4 = 20\n",
            "5 x 5 = 25\n",
            "5 x 6 = 30\n",
            "5 x 7 = 35\n",
            "5 x 8 = 40\n",
            "5 x 9 = 45\n",
            "5 x 10 = 50\n"
          ]
        }
      ]
    },
    {
      "cell_type": "code",
      "source": [
        "# Count how many vowels are in \"Hello Python World\"\n",
        "string = \"Hello Python World\"\n",
        "vowels = \"aeiouAEIOU\"  # humne bta diya ye vowels hain\n",
        "count = 0              # counting 0 se shuru hoti hai\n",
        "for char in string:\n",
        "  if char in vowels:\n",
        "    count += 1\n",
        "print(\"Number of vowels: \", count)"
      ],
      "metadata": {
        "colab": {
          "base_uri": "https://localhost:8080/"
        },
        "id": "pbL-iaaBsyZY",
        "outputId": "6e0957a0-66bd-4f16-a836-a6fab6bfea60"
      },
      "execution_count": null,
      "outputs": [
        {
          "output_type": "stream",
          "name": "stdout",
          "text": [
            "Number of vowels:  4\n"
          ]
        }
      ]
    },
    {
      "cell_type": "code",
      "source": [
        "# print square of numbers from 1 to 5\n",
        "for i in range(1, 6):\n",
        "  print(\"Square of\", i, \"is\", i * i)"
      ],
      "metadata": {
        "colab": {
          "base_uri": "https://localhost:8080/"
        },
        "id": "lTaQ_76Mt5X-",
        "outputId": "8522d85e-b57c-457c-d6a8-d1fd51ad8a92"
      },
      "execution_count": null,
      "outputs": [
        {
          "output_type": "stream",
          "name": "stdout",
          "text": [
            "Square of 1 is 1\n",
            "Square of 2 is 4\n",
            "Square of 3 is 9\n",
            "Square of 4 is 16\n",
            "Square of 5 is 25\n"
          ]
        }
      ]
    },
    {
      "cell_type": "code",
      "source": [
        "# Print the numbers from 10 to 1(reverse)\n",
        "for i in range(1, 11):\n",
        "  print(11 - i)"
      ],
      "metadata": {
        "colab": {
          "base_uri": "https://localhost:8080/"
        },
        "id": "6-64FSf3uJ0b",
        "outputId": "a842b7b1-883e-4bec-8867-de70aa80fb3b"
      },
      "execution_count": null,
      "outputs": [
        {
          "output_type": "stream",
          "name": "stdout",
          "text": [
            "10\n",
            "9\n",
            "8\n",
            "7\n",
            "6\n",
            "5\n",
            "4\n",
            "3\n",
            "2\n",
            "1\n"
          ]
        }
      ]
    },
    {
      "cell_type": "code",
      "source": [
        "# from given list print the numbers which are greater than 50\n",
        "numbers = [10, 20, 30, 40, 50, 60, 70, 80, 90, 100]\n",
        "for num in numbers:\n",
        "  if num > 50:\n",
        "    print(num)"
      ],
      "metadata": {
        "colab": {
          "base_uri": "https://localhost:8080/"
        },
        "id": "mOegrXfWuhVw",
        "outputId": "29c38d8c-65fa-4459-e359-277ad770ba6b"
      },
      "execution_count": null,
      "outputs": [
        {
          "output_type": "stream",
          "name": "stdout",
          "text": [
            "60\n",
            "70\n",
            "80\n",
            "90\n",
            "100\n"
          ]
        }
      ]
    },
    {
      "cell_type": "markdown",
      "source": [
        "# **while loop**- A while loop is used to repeat a block of code as long as a condition is true.Agar koi kaam jab tak karte rehna hai tab tak koi condition fullfil ho rahi ho.Basic syntax- while condition: code block"
      ],
      "metadata": {
        "id": "RrYaat5s3k5t"
      }
    },
    {
      "cell_type": "code",
      "source": [
        "# Counting from 1 to 5\n",
        "i = 1\n",
        "while i <= 5:\n",
        "  print(i)\n",
        "  i += 1"
      ],
      "metadata": {
        "colab": {
          "base_uri": "https://localhost:8080/"
        },
        "id": "Maq-yzdp0G-7",
        "outputId": "63c67198-e126-4757-fa40-25a0cf4bc7a1"
      },
      "execution_count": null,
      "outputs": [
        {
          "output_type": "stream",
          "name": "stdout",
          "text": [
            "1\n",
            "2\n",
            "3\n",
            "4\n",
            "5\n"
          ]
        }
      ]
    },
    {
      "cell_type": "code",
      "source": [
        "# ATM pin check - 3 attemts only\n",
        "correct_pin = \"1234\"\n",
        "attempts = 0\n",
        "\n",
        "while attempts < 3:\n",
        "  pin = input(\"Enter your pin: \")\n",
        "  if pin == correct_pin:\n",
        "    print(\"Pin accepted\")\n",
        "    break\n",
        "  else:\n",
        "    print(\"Incorrect pin\")\n",
        "    attempts += 1\n",
        "else:\n",
        "  print(\"Too many attempts\")\n"
      ],
      "metadata": {
        "id": "aYsDoUuu4Uc6",
        "colab": {
          "base_uri": "https://localhost:8080/"
        },
        "outputId": "e80cb7b7-c5f7-4eba-c7c8-510a075e039b"
      },
      "execution_count": 26,
      "outputs": [
        {
          "output_type": "stream",
          "name": "stdout",
          "text": [
            "Enter your pin: 1234\n",
            "Pin accepted\n"
          ]
        }
      ]
    },
    {
      "cell_type": "code",
      "source": [
        "# Sum numbers untill user enter zero\n",
        "total = 0\n",
        "while True:\n",
        "  num = int(input(\"Enter a number: \"))\n",
        "  if num == 0:\n",
        "    break\n",
        "  total += num\n",
        "print(\"Total: \", total)"
      ],
      "metadata": {
        "colab": {
          "base_uri": "https://localhost:8080/"
        },
        "id": "XsFE33b47f3a",
        "outputId": "70b8f60b-ca2f-4af7-fe3a-9b087a401cda"
      },
      "execution_count": 27,
      "outputs": [
        {
          "output_type": "stream",
          "name": "stdout",
          "text": [
            "Enter a number: 5\n",
            "Enter a number: 8\n",
            "Enter a number: 6\n",
            "Enter a number: 9\n",
            "Enter a number: 0\n",
            "Total:  28\n"
          ]
        }
      ]
    },
    {
      "cell_type": "code",
      "source": [
        "# Second method\n",
        "total = 0\n",
        "num = int(input(\"Enter a number: \"))\n",
        "while num != 0:\n",
        "  total += num\n",
        "  num = int(input(\"Enter a number: \"))\n",
        "print(\"Total: \", total)"
      ],
      "metadata": {
        "colab": {
          "base_uri": "https://localhost:8080/"
        },
        "id": "o1h9vSjG9vX3",
        "outputId": "4773195f-8903-47d0-a040-65db9f1e7f0e"
      },
      "execution_count": 28,
      "outputs": [
        {
          "output_type": "stream",
          "name": "stdout",
          "text": [
            "Enter a number: 5\n",
            "Enter a number: 7\n",
            "Enter a number: 0\n",
            "Total:  12\n"
          ]
        }
      ]
    },
    {
      "cell_type": "code",
      "source": [
        "# countdown timer\n",
        "count = 5\n",
        "while count > 0:\n",
        "  print(\"countdown:\", count)\n",
        "  count -= 1\n",
        "print(\"Blast\")"
      ],
      "metadata": {
        "colab": {
          "base_uri": "https://localhost:8080/"
        },
        "id": "VIQfUpeX-MGQ",
        "outputId": "838097cb-50ea-447c-cf08-78b136b3c25d"
      },
      "execution_count": 29,
      "outputs": [
        {
          "output_type": "stream",
          "name": "stdout",
          "text": [
            "countdown: 5\n",
            "countdown: 4\n",
            "countdown: 3\n",
            "countdown: 2\n",
            "countdown: 1\n",
            "Blast\n"
          ]
        }
      ]
    },
    {
      "cell_type": "code",
      "source": [
        "# infinite loop with break\n",
        "while True:\n",
        "  name = input(\"Enter your name: \")\n",
        "  if name != \"\":\n",
        "    break\n",
        "  print(\"Hello\", name)"
      ],
      "metadata": {
        "colab": {
          "base_uri": "https://localhost:8080/"
        },
        "id": "o6_xGPM2__ga",
        "outputId": "fbb66402-0059-4b21-b344-9f0edd0427c0"
      },
      "execution_count": 31,
      "outputs": [
        {
          "name": "stdout",
          "output_type": "stream",
          "text": [
            "Enter your name: \n",
            "Hello \n",
            "Enter your name: \n",
            "Hello \n",
            "Enter your name: firoz\n"
          ]
        }
      ]
    },
    {
      "cell_type": "code",
      "source": [
        "# print numbers from 1 to 10 using while loop\n",
        "i = 1\n",
        "while i <= 10:\n",
        "  print(i)\n",
        "  i += 1"
      ],
      "metadata": {
        "colab": {
          "base_uri": "https://localhost:8080/"
        },
        "id": "UGRRcFKfNs6Z",
        "outputId": "ecf72b28-9c47-46ee-fa4f-27274207a90d"
      },
      "execution_count": 32,
      "outputs": [
        {
          "output_type": "stream",
          "name": "stdout",
          "text": [
            "1\n",
            "2\n",
            "3\n",
            "4\n",
            "5\n",
            "6\n",
            "7\n",
            "8\n",
            "9\n",
            "10\n"
          ]
        }
      ]
    },
    {
      "cell_type": "code",
      "source": [
        "# Print all even numbers between 1 to 20\n",
        "i = 1\n",
        "while i <= 20:\n",
        "  if i % 2 == 0:\n",
        "    print(i)\n",
        "  i += 1"
      ],
      "metadata": {
        "colab": {
          "base_uri": "https://localhost:8080/"
        },
        "id": "6vn1sY4bOeSU",
        "outputId": "05b6b7f0-4482-4934-8f38-18763460a9b0"
      },
      "execution_count": 37,
      "outputs": [
        {
          "output_type": "stream",
          "name": "stdout",
          "text": [
            "2\n",
            "4\n",
            "6\n",
            "8\n",
            "10\n",
            "12\n",
            "14\n",
            "16\n",
            "18\n",
            "20\n"
          ]
        }
      ]
    },
    {
      "cell_type": "code",
      "source": [
        "# count from 10 to 1 (inverse countdown)\n",
        "count = 10\n",
        "while count > 0:\n",
        "  print(count)\n",
        "  count -= 1\n"
      ],
      "metadata": {
        "colab": {
          "base_uri": "https://localhost:8080/"
        },
        "id": "1MK_qYnTO2xb",
        "outputId": "07a3860e-3f76-459d-c9fc-c89f68d2cd91"
      },
      "execution_count": 38,
      "outputs": [
        {
          "output_type": "stream",
          "name": "stdout",
          "text": [
            "10\n",
            "9\n",
            "8\n",
            "7\n",
            "6\n",
            "5\n",
            "4\n",
            "3\n",
            "2\n",
            "1\n"
          ]
        }
      ]
    },
    {
      "cell_type": "code",
      "source": [
        "# Ask user to enter names untill they type stop and print all names\n",
        "names = input(\"Enter your name: \")\n",
        "while names != \"stop\":\n",
        "  print(names)\n",
        "  names = input(\"Enter names:\")"
      ],
      "metadata": {
        "colab": {
          "base_uri": "https://localhost:8080/"
        },
        "id": "eXKpki-0X8Xx",
        "outputId": "02885bc2-3f97-447e-8444-9befaf4812c8"
      },
      "execution_count": 39,
      "outputs": [
        {
          "name": "stdout",
          "output_type": "stream",
          "text": [
            "Enter your name: firoz\n",
            "firoz\n",
            "Enter names:rubina\n",
            "rubina\n",
            "Enter names:dua\n",
            "dua\n",
            "Enter names:stop\n"
          ]
        }
      ]
    },
    {
      "cell_type": "code",
      "source": [
        "# Sum of digits of a number using while loop(eg- 123)\n",
        "num = int(input(\"Enter a number: \"))\n",
        "total = 0   # yahan hum Total sum store karenge digit ka\n",
        "while num > 0:\n",
        "  digit = num % 10   # 10 se kisi number ka modulus nikalenge to last digit ayegi hmesha,islye 10 modulus karte hain hmesha\n",
        "  total += digit     # Us digit ko total me add karte hain\n",
        "  num //= 10      # integer division last digit ko hata deta hai 10 se karne par,isliye 10 se karte hain\n",
        "print(\"Sum of digits: \", total)"
      ],
      "metadata": {
        "colab": {
          "base_uri": "https://localhost:8080/"
        },
        "id": "g3nd98F1Ytv1",
        "outputId": "a63951b1-e1ae-4015-93f0-b096596ad4f0"
      },
      "execution_count": 4,
      "outputs": [
        {
          "output_type": "stream",
          "name": "stdout",
          "text": [
            "Enter a number: 786\n",
            "Sum of digits:  21\n"
          ]
        }
      ]
    },
    {
      "cell_type": "code",
      "source": [
        "# check if a number is a palindrome using while loop\n",
        "num = int(input(\"Enter Number\"))\n",
        "original = num    # Oroginal number ko alag store kar liya,kyu ke num ko hum reverse karne me change karenge\n",
        "reverse = 0       # Ek naya variable bnaya jisme hum reverse number banayenge\n",
        "while num > 0:    # har baar ek digit nikal kar reverse banayenge\n",
        "  digit = num % 10    # Last digit nikal rahe hain\n",
        "  reverse = reverse * 10 + digit    # jo digit mili hai usko reverse number me add kar rahe hain\n",
        "  num = num // 10      # last digit ko number se hata rahe hain\n",
        "if original == reverse:\n",
        "  print(\"Palindrome\")\n",
        "else:\n",
        "  print(\"Not Palindrome\")"
      ],
      "metadata": {
        "colab": {
          "base_uri": "https://localhost:8080/"
        },
        "id": "AqFYj2lLLtv4",
        "outputId": "5ecbfa57-51b4-4a0b-a582-f1ac0ac8d684"
      },
      "execution_count": 7,
      "outputs": [
        {
          "output_type": "stream",
          "name": "stdout",
          "text": [
            "Enter Number434\n",
            "Palindrome\n"
          ]
        }
      ]
    },
    {
      "cell_type": "code",
      "source": [
        "# Create a login system with username and password max 3 attempt\n",
        "username = \"admin\"\n",
        "password = \"1234\"\n",
        "attempts = 0\n",
        "\n",
        "while attempts < 3:\n",
        "  user = input(\"Enter username: \")\n",
        "  passw = input(\"Enter password: \")\n",
        "  if user == username and passw == password:\n",
        "    print(\"Login Successful\")\n",
        "    break\n",
        "  else:\n",
        "    print(\"Incorrect username or password\")\n",
        "    attempts += 1\n",
        "else:\n",
        "  print(\"Too many attempts\")"
      ],
      "metadata": {
        "colab": {
          "base_uri": "https://localhost:8080/"
        },
        "id": "DuwoqtOjUVkN",
        "outputId": "98ed0c08-b5c5-404a-fc76-cbad02c46207"
      },
      "execution_count": 10,
      "outputs": [
        {
          "output_type": "stream",
          "name": "stdout",
          "text": [
            "Enter username: admin\n",
            "Enter password: 1234\n",
            "Login Successful\n"
          ]
        }
      ]
    },
    {
      "cell_type": "code",
      "source": [
        "# ask the user to Enter numbers until total becomes greater than 100\n"
      ],
      "metadata": {
        "id": "wHCIQ1Y3YDJ5"
      },
      "execution_count": null,
      "outputs": []
    }
  ]
}